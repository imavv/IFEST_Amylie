{
 "cells": [
  {
   "cell_type": "markdown",
   "metadata": {},
   "source": [
    "# Scraper - Hoax Buster\n",
    "Scraping was done on 5th September 2021 9:04 AM"
   ]
  },
  {
   "cell_type": "code",
   "execution_count": 1,
   "metadata": {},
   "outputs": [],
   "source": [
    "# Standard\n",
    "import pandas as pd\n",
    "import os\n",
    "\n",
    "# Crawlers\n",
    "from selenium import webdriver\n",
    "from bs4 import BeautifulSoup as bs\n",
    "import requests\n",
    "\n",
    "# For Time Monitoring\n",
    "from tqdm import tqdm\n",
    "from tqdm.notebook import tqdm_notebook\n",
    "import time\n",
    "\n",
    "# Warnings\n",
    "import warnings\n",
    "warnings.filterwarnings(\"ignore\")"
   ]
  },
  {
   "cell_type": "code",
   "execution_count": 2,
   "metadata": {},
   "outputs": [],
   "source": [
    "def readpage(url):\n",
    "    req = requests.get(url, verify=False)\n",
    "    page = bs(req.content, 'lxml')\n",
    "    return page"
   ]
  },
  {
   "cell_type": "code",
   "execution_count": 3,
   "metadata": {},
   "outputs": [],
   "source": [
    "driver = webdriver.Edge('msedgedriver.exe')"
   ]
  },
  {
   "cell_type": "code",
   "execution_count": 28,
   "metadata": {},
   "outputs": [
    {
     "name": "stdout",
     "output_type": "stream",
     "text": [
      "Wall time: 2.18 s\n"
     ]
    }
   ],
   "source": [
    "%%time\n",
    "website = 'https://covid19.go.id/p/hoax-buster'\n",
    "driver.get(website)"
   ]
  },
  {
   "cell_type": "code",
   "execution_count": 35,
   "metadata": {
    "scrolled": true
   },
   "outputs": [
    {
     "data": {
      "application/vnd.jupyter.widget-view+json": {
       "model_id": "99827a35f73b4001a5d6bf22846df259",
       "version_major": 2,
       "version_minor": 0
      },
      "text/plain": [
       "HBox(children=(HTML(value=''), FloatProgress(value=0.0, max=5.0), HTML(value='')))"
      ]
     },
     "metadata": {},
     "output_type": "display_data"
    },
    {
     "name": "stdout",
     "output_type": "stream",
     "text": [
      "\n"
     ]
    },
    {
     "ename": "ElementClickInterceptedException",
     "evalue": "Message: element click intercepted: Element is not clickable at point (963, 2323)\n  (Session info: MicrosoftEdge=93.0.961.38)\n",
     "output_type": "error",
     "traceback": [
      "\u001b[1;31m---------------------------------------------------------------------------\u001b[0m",
      "\u001b[1;31mElementClickInterceptedException\u001b[0m          Traceback (most recent call last)",
      "\u001b[1;32m<timed exec>\u001b[0m in \u001b[0;36m<module>\u001b[1;34m\u001b[0m\n",
      "\u001b[1;32mD:\\Anaconda\\lib\\site-packages\\selenium\\webdriver\\remote\\webelement.py\u001b[0m in \u001b[0;36mclick\u001b[1;34m(self)\u001b[0m\n\u001b[0;32m     78\u001b[0m     \u001b[1;32mdef\u001b[0m \u001b[0mclick\u001b[0m\u001b[1;33m(\u001b[0m\u001b[0mself\u001b[0m\u001b[1;33m)\u001b[0m\u001b[1;33m:\u001b[0m\u001b[1;33m\u001b[0m\u001b[1;33m\u001b[0m\u001b[0m\n\u001b[0;32m     79\u001b[0m         \u001b[1;34m\"\"\"Clicks the element.\"\"\"\u001b[0m\u001b[1;33m\u001b[0m\u001b[1;33m\u001b[0m\u001b[0m\n\u001b[1;32m---> 80\u001b[1;33m         \u001b[0mself\u001b[0m\u001b[1;33m.\u001b[0m\u001b[0m_execute\u001b[0m\u001b[1;33m(\u001b[0m\u001b[0mCommand\u001b[0m\u001b[1;33m.\u001b[0m\u001b[0mCLICK_ELEMENT\u001b[0m\u001b[1;33m)\u001b[0m\u001b[1;33m\u001b[0m\u001b[1;33m\u001b[0m\u001b[0m\n\u001b[0m\u001b[0;32m     81\u001b[0m \u001b[1;33m\u001b[0m\u001b[0m\n\u001b[0;32m     82\u001b[0m     \u001b[1;32mdef\u001b[0m \u001b[0msubmit\u001b[0m\u001b[1;33m(\u001b[0m\u001b[0mself\u001b[0m\u001b[1;33m)\u001b[0m\u001b[1;33m:\u001b[0m\u001b[1;33m\u001b[0m\u001b[1;33m\u001b[0m\u001b[0m\n",
      "\u001b[1;32mD:\\Anaconda\\lib\\site-packages\\selenium\\webdriver\\remote\\webelement.py\u001b[0m in \u001b[0;36m_execute\u001b[1;34m(self, command, params)\u001b[0m\n\u001b[0;32m    631\u001b[0m             \u001b[0mparams\u001b[0m \u001b[1;33m=\u001b[0m \u001b[1;33m{\u001b[0m\u001b[1;33m}\u001b[0m\u001b[1;33m\u001b[0m\u001b[1;33m\u001b[0m\u001b[0m\n\u001b[0;32m    632\u001b[0m         \u001b[0mparams\u001b[0m\u001b[1;33m[\u001b[0m\u001b[1;34m'id'\u001b[0m\u001b[1;33m]\u001b[0m \u001b[1;33m=\u001b[0m \u001b[0mself\u001b[0m\u001b[1;33m.\u001b[0m\u001b[0m_id\u001b[0m\u001b[1;33m\u001b[0m\u001b[1;33m\u001b[0m\u001b[0m\n\u001b[1;32m--> 633\u001b[1;33m         \u001b[1;32mreturn\u001b[0m \u001b[0mself\u001b[0m\u001b[1;33m.\u001b[0m\u001b[0m_parent\u001b[0m\u001b[1;33m.\u001b[0m\u001b[0mexecute\u001b[0m\u001b[1;33m(\u001b[0m\u001b[0mcommand\u001b[0m\u001b[1;33m,\u001b[0m \u001b[0mparams\u001b[0m\u001b[1;33m)\u001b[0m\u001b[1;33m\u001b[0m\u001b[1;33m\u001b[0m\u001b[0m\n\u001b[0m\u001b[0;32m    634\u001b[0m \u001b[1;33m\u001b[0m\u001b[0m\n\u001b[0;32m    635\u001b[0m     \u001b[1;32mdef\u001b[0m \u001b[0mfind_element\u001b[0m\u001b[1;33m(\u001b[0m\u001b[0mself\u001b[0m\u001b[1;33m,\u001b[0m \u001b[0mby\u001b[0m\u001b[1;33m=\u001b[0m\u001b[0mBy\u001b[0m\u001b[1;33m.\u001b[0m\u001b[0mID\u001b[0m\u001b[1;33m,\u001b[0m \u001b[0mvalue\u001b[0m\u001b[1;33m=\u001b[0m\u001b[1;32mNone\u001b[0m\u001b[1;33m)\u001b[0m\u001b[1;33m:\u001b[0m\u001b[1;33m\u001b[0m\u001b[1;33m\u001b[0m\u001b[0m\n",
      "\u001b[1;32mD:\\Anaconda\\lib\\site-packages\\selenium\\webdriver\\remote\\webdriver.py\u001b[0m in \u001b[0;36mexecute\u001b[1;34m(self, driver_command, params)\u001b[0m\n\u001b[0;32m    319\u001b[0m         \u001b[0mresponse\u001b[0m \u001b[1;33m=\u001b[0m \u001b[0mself\u001b[0m\u001b[1;33m.\u001b[0m\u001b[0mcommand_executor\u001b[0m\u001b[1;33m.\u001b[0m\u001b[0mexecute\u001b[0m\u001b[1;33m(\u001b[0m\u001b[0mdriver_command\u001b[0m\u001b[1;33m,\u001b[0m \u001b[0mparams\u001b[0m\u001b[1;33m)\u001b[0m\u001b[1;33m\u001b[0m\u001b[1;33m\u001b[0m\u001b[0m\n\u001b[0;32m    320\u001b[0m         \u001b[1;32mif\u001b[0m \u001b[0mresponse\u001b[0m\u001b[1;33m:\u001b[0m\u001b[1;33m\u001b[0m\u001b[1;33m\u001b[0m\u001b[0m\n\u001b[1;32m--> 321\u001b[1;33m             \u001b[0mself\u001b[0m\u001b[1;33m.\u001b[0m\u001b[0merror_handler\u001b[0m\u001b[1;33m.\u001b[0m\u001b[0mcheck_response\u001b[0m\u001b[1;33m(\u001b[0m\u001b[0mresponse\u001b[0m\u001b[1;33m)\u001b[0m\u001b[1;33m\u001b[0m\u001b[1;33m\u001b[0m\u001b[0m\n\u001b[0m\u001b[0;32m    322\u001b[0m             response['value'] = self._unwrap_value(\n\u001b[0;32m    323\u001b[0m                 response.get('value', None))\n",
      "\u001b[1;32mD:\\Anaconda\\lib\\site-packages\\selenium\\webdriver\\remote\\errorhandler.py\u001b[0m in \u001b[0;36mcheck_response\u001b[1;34m(self, response)\u001b[0m\n\u001b[0;32m    240\u001b[0m                 \u001b[0malert_text\u001b[0m \u001b[1;33m=\u001b[0m \u001b[0mvalue\u001b[0m\u001b[1;33m[\u001b[0m\u001b[1;34m'alert'\u001b[0m\u001b[1;33m]\u001b[0m\u001b[1;33m.\u001b[0m\u001b[0mget\u001b[0m\u001b[1;33m(\u001b[0m\u001b[1;34m'text'\u001b[0m\u001b[1;33m)\u001b[0m\u001b[1;33m\u001b[0m\u001b[1;33m\u001b[0m\u001b[0m\n\u001b[0;32m    241\u001b[0m             \u001b[1;32mraise\u001b[0m \u001b[0mexception_class\u001b[0m\u001b[1;33m(\u001b[0m\u001b[0mmessage\u001b[0m\u001b[1;33m,\u001b[0m \u001b[0mscreen\u001b[0m\u001b[1;33m,\u001b[0m \u001b[0mstacktrace\u001b[0m\u001b[1;33m,\u001b[0m \u001b[0malert_text\u001b[0m\u001b[1;33m)\u001b[0m\u001b[1;33m\u001b[0m\u001b[1;33m\u001b[0m\u001b[0m\n\u001b[1;32m--> 242\u001b[1;33m         \u001b[1;32mraise\u001b[0m \u001b[0mexception_class\u001b[0m\u001b[1;33m(\u001b[0m\u001b[0mmessage\u001b[0m\u001b[1;33m,\u001b[0m \u001b[0mscreen\u001b[0m\u001b[1;33m,\u001b[0m \u001b[0mstacktrace\u001b[0m\u001b[1;33m)\u001b[0m\u001b[1;33m\u001b[0m\u001b[1;33m\u001b[0m\u001b[0m\n\u001b[0m\u001b[0;32m    243\u001b[0m \u001b[1;33m\u001b[0m\u001b[0m\n\u001b[0;32m    244\u001b[0m     \u001b[1;32mdef\u001b[0m \u001b[0m_value_or_default\u001b[0m\u001b[1;33m(\u001b[0m\u001b[0mself\u001b[0m\u001b[1;33m,\u001b[0m \u001b[0mobj\u001b[0m\u001b[1;33m,\u001b[0m \u001b[0mkey\u001b[0m\u001b[1;33m,\u001b[0m \u001b[0mdefault\u001b[0m\u001b[1;33m)\u001b[0m\u001b[1;33m:\u001b[0m\u001b[1;33m\u001b[0m\u001b[1;33m\u001b[0m\u001b[0m\n",
      "\u001b[1;31mElementClickInterceptedException\u001b[0m: Message: element click intercepted: Element is not clickable at point (963, 2323)\n  (Session info: MicrosoftEdge=93.0.961.38)\n"
     ]
    }
   ],
   "source": [
    "%%time\n",
    "judul_hb = []\n",
    "tanggal_hb = []\n",
    "link_hb = []\n",
    "\n",
    "for i in tqdm_notebook(range(5)):\n",
    "    # Define Cards\n",
    "    hb = bs(driver.page_source, 'lxml')\n",
    "    cards = hb.find_all('div', {'class':'col-lg-4'})\n",
    "\n",
    "    # Get Judul & Link\n",
    "    headers = [card.find('h4', {'class':'card-title'}) for card in cards]\n",
    "    # Get Judul\n",
    "    judul = [head.get_text().strip() for head in headers]\n",
    "    judul_hb.extend(judul)\n",
    "    # Get Link\n",
    "    links = [head.find('a')['href'] for head in headers]\n",
    "    link_hb.extend(links)\n",
    "    \n",
    "    # Get Tanggal\n",
    "    tanggal = [card.find('time', {'class':'text-1'}).get_text().strip() for card in cards]\n",
    "    tanggal_hb.extend(tanggal)\n",
    "    \n",
    "    # Next Page\n",
    "    np_button = driver.find_element_by_xpath(\".//li[contains(@class, 'next') and contains(@class, 'page-item')]/a[@class='page-link']\")\n",
    "    np_button.click()\n",
    "    time.sleep(1)"
   ]
  },
  {
   "cell_type": "code",
   "execution_count": null,
   "metadata": {},
   "outputs": [],
   "source": [
    "//*[@id=\"portfolioPagination\"]/ul/li[7]/a\n",
    "//*[@id=\"portfolioPagination\"]/ul/li[5]/a\n"
   ]
  },
  {
   "cell_type": "code",
   "execution_count": 16,
   "metadata": {},
   "outputs": [
    {
     "data": {
      "text/plain": [
       "['Awas Hoaks: Video Siswa Lumpuh Usai Divaksinasi COVID-19',\n",
       " '[SALAH] Muammar Gaddafi Prediksi Covid-19',\n",
       " '[SALAH] Obat Covid-19 Molnulpiravir Mulai Beredar September Mendatang',\n",
       " '[SALAH] “Madagaskar keluar dari WHO”',\n",
       " '[SALAH] Campuran Air Kelapa Muda, Jeruk Nipis, Garam, dan Madu dapat Mengobati Covid-19',\n",
       " 'Awas Hoaks: Varian Delta COVID-19 Berasal dari Radiasi Jaringan 5G',\n",
       " '[SALAH] Video Kota Prabumulih tanpa Korona',\n",
       " '[SALAH] Vaksin Corona Mengandung Babi, Dapat Mengubah DNA, dan Membuat Manusia Jadi Zombie',\n",
       " '[SALAH] Penyelenggaraan Hajatan dan Hiburan sudah Diperbolehkan oleh Bupati Sukoharjo',\n",
       " '[SALAH] Vaksin di Gedung Gradika Bakti ditujukan untuk 18-59 Tahun',\n",
       " '[SALAH] Tautan Pengecekan Penerima BSU dari BPJS Ketenagakerjaan',\n",
       " '[SALAH] Pesan Berantai dari Ketua Satgas Covid-19 Dwiyono terkait Metode Menghirup Uap Air Panas untuk Membunuh Virus Corona']"
      ]
     },
     "execution_count": 16,
     "metadata": {},
     "output_type": "execute_result"
    }
   ],
   "source": [
    "judul_hb"
   ]
  },
  {
   "cell_type": "code",
   "execution_count": 56,
   "metadata": {},
   "outputs": [],
   "source": [
    "# Make into DF\n",
    "cf_df = pd.DataFrame(list(zip(judul_cf, tanggal_cf, link_cf)))\n",
    "cf_df.columns = ['judul', 'tanggal', 'link']"
   ]
  },
  {
   "cell_type": "code",
   "execution_count": 57,
   "metadata": {},
   "outputs": [],
   "source": [
    "# Put into CSV\n",
    "cf_df.to_csv('cf_data.csv', index=False)"
   ]
  },
  {
   "cell_type": "code",
   "execution_count": 58,
   "metadata": {},
   "outputs": [
    {
     "data": {
      "text/html": [
       "<div>\n",
       "<style scoped>\n",
       "    .dataframe tbody tr th:only-of-type {\n",
       "        vertical-align: middle;\n",
       "    }\n",
       "\n",
       "    .dataframe tbody tr th {\n",
       "        vertical-align: top;\n",
       "    }\n",
       "\n",
       "    .dataframe thead th {\n",
       "        text-align: right;\n",
       "    }\n",
       "</style>\n",
       "<table border=\"1\" class=\"dataframe\">\n",
       "  <thead>\n",
       "    <tr style=\"text-align: right;\">\n",
       "      <th></th>\n",
       "      <th>judul</th>\n",
       "      <th>tanggal</th>\n",
       "      <th>link</th>\n",
       "    </tr>\n",
       "  </thead>\n",
       "  <tbody>\n",
       "    <tr>\n",
       "      <th>0</th>\n",
       "      <td>[SALAH] Akun Whatsapp Bupati Cianjur Berikan B...</td>\n",
       "      <td>Sumber: \\n                    whatsapp.com    ...</td>\n",
       "      <td>https://cekfakta.com/focus/7512</td>\n",
       "    </tr>\n",
       "    <tr>\n",
       "      <th>1</th>\n",
       "      <td>[SALAH] Muammar Gaddafi Prediksi Covid-19</td>\n",
       "      <td>Sumber: \\n                     \\n             ...</td>\n",
       "      <td>https://cekfakta.com/focus/7511</td>\n",
       "    </tr>\n",
       "    <tr>\n",
       "      <th>2</th>\n",
       "      <td>[SALAH] Obat Covid-19 Molnulpiravir Mulai Bere...</td>\n",
       "      <td>Sumber: \\n                    whatsapp.com    ...</td>\n",
       "      <td>https://cekfakta.com/focus/7510</td>\n",
       "    </tr>\n",
       "    <tr>\n",
       "      <th>3</th>\n",
       "      <td>[SALAH] Artikel lanjutbaja.site: “Innalillahi,...</td>\n",
       "      <td>Sumber: \\n                     \\n             ...</td>\n",
       "      <td>https://cekfakta.com/focus/7509</td>\n",
       "    </tr>\n",
       "    <tr>\n",
       "      <th>4</th>\n",
       "      <td>[SALAH] Mengonsumsi Banyak Petai Bisa Mengatas...</td>\n",
       "      <td>Sumber: \\n                    WhatsApp        ...</td>\n",
       "      <td>https://cekfakta.com/focus/7508</td>\n",
       "    </tr>\n",
       "    <tr>\n",
       "      <th>...</th>\n",
       "      <td>...</td>\n",
       "      <td>...</td>\n",
       "      <td>...</td>\n",
       "    </tr>\n",
       "    <tr>\n",
       "      <th>3995</th>\n",
       "      <td>[BERITA] Sriwijaya Air Group Bantah Setop Operasi</td>\n",
       "      <td>Sumber: \\n                                    ...</td>\n",
       "      <td>https://cekfakta.com/focus/3126</td>\n",
       "    </tr>\n",
       "    <tr>\n",
       "      <th>3996</th>\n",
       "      <td>[KLARIFIKASI] Ambulans DKI Tidak Membawa Batu ...</td>\n",
       "      <td>Sumber: \\n                                    ...</td>\n",
       "      <td>https://cekfakta.com/focus/3125</td>\n",
       "    </tr>\n",
       "    <tr>\n",
       "      <th>3997</th>\n",
       "      <td>[KLARIFIKASI] KPK Beri Klarifikasi Atas Isu Tu...</td>\n",
       "      <td>Sumber: \\n                     \\n             ...</td>\n",
       "      <td>https://cekfakta.com/focus/3124</td>\n",
       "    </tr>\n",
       "    <tr>\n",
       "      <th>3998</th>\n",
       "      <td>[SALAH] Faisal Amir, Mahasiswa Universitas Al ...</td>\n",
       "      <td>Sumber: \\n                     \\n             ...</td>\n",
       "      <td>https://cekfakta.com/focus/3123</td>\n",
       "    </tr>\n",
       "    <tr>\n",
       "      <th>3999</th>\n",
       "      <td>[KLARIFIKASI] Universitas Brawijaya dan UMM Ba...</td>\n",
       "      <td>Sumber: \\n                    Media Online    ...</td>\n",
       "      <td>https://cekfakta.com/focus/3122</td>\n",
       "    </tr>\n",
       "  </tbody>\n",
       "</table>\n",
       "<p>4000 rows × 3 columns</p>\n",
       "</div>"
      ],
      "text/plain": [
       "                                                  judul  \\\n",
       "0     [SALAH] Akun Whatsapp Bupati Cianjur Berikan B...   \n",
       "1             [SALAH] Muammar Gaddafi Prediksi Covid-19   \n",
       "2     [SALAH] Obat Covid-19 Molnulpiravir Mulai Bere...   \n",
       "3     [SALAH] Artikel lanjutbaja.site: “Innalillahi,...   \n",
       "4     [SALAH] Mengonsumsi Banyak Petai Bisa Mengatas...   \n",
       "...                                                 ...   \n",
       "3995  [BERITA] Sriwijaya Air Group Bantah Setop Operasi   \n",
       "3996  [KLARIFIKASI] Ambulans DKI Tidak Membawa Batu ...   \n",
       "3997  [KLARIFIKASI] KPK Beri Klarifikasi Atas Isu Tu...   \n",
       "3998  [SALAH] Faisal Amir, Mahasiswa Universitas Al ...   \n",
       "3999  [KLARIFIKASI] Universitas Brawijaya dan UMM Ba...   \n",
       "\n",
       "                                                tanggal  \\\n",
       "0     Sumber: \\n                    whatsapp.com    ...   \n",
       "1     Sumber: \\n                     \\n             ...   \n",
       "2     Sumber: \\n                    whatsapp.com    ...   \n",
       "3     Sumber: \\n                     \\n             ...   \n",
       "4     Sumber: \\n                    WhatsApp        ...   \n",
       "...                                                 ...   \n",
       "3995  Sumber: \\n                                    ...   \n",
       "3996  Sumber: \\n                                    ...   \n",
       "3997  Sumber: \\n                     \\n             ...   \n",
       "3998  Sumber: \\n                     \\n             ...   \n",
       "3999  Sumber: \\n                    Media Online    ...   \n",
       "\n",
       "                                 link  \n",
       "0     https://cekfakta.com/focus/7512  \n",
       "1     https://cekfakta.com/focus/7511  \n",
       "2     https://cekfakta.com/focus/7510  \n",
       "3     https://cekfakta.com/focus/7509  \n",
       "4     https://cekfakta.com/focus/7508  \n",
       "...                               ...  \n",
       "3995  https://cekfakta.com/focus/3126  \n",
       "3996  https://cekfakta.com/focus/3125  \n",
       "3997  https://cekfakta.com/focus/3124  \n",
       "3998  https://cekfakta.com/focus/3123  \n",
       "3999  https://cekfakta.com/focus/3122  \n",
       "\n",
       "[4000 rows x 3 columns]"
      ]
     },
     "execution_count": 58,
     "metadata": {},
     "output_type": "execute_result"
    }
   ],
   "source": [
    "cf_df"
   ]
  },
  {
   "cell_type": "code",
   "execution_count": null,
   "metadata": {},
   "outputs": [],
   "source": []
  }
 ],
 "metadata": {
  "kernelspec": {
   "display_name": "Python 3",
   "language": "python",
   "name": "python3"
  },
  "language_info": {
   "codemirror_mode": {
    "name": "ipython",
    "version": 3
   },
   "file_extension": ".py",
   "mimetype": "text/x-python",
   "name": "python",
   "nbconvert_exporter": "python",
   "pygments_lexer": "ipython3",
   "version": "3.8.5"
  },
  "toc": {
   "base_numbering": 1,
   "nav_menu": {},
   "number_sections": false,
   "sideBar": true,
   "skip_h1_title": false,
   "title_cell": "Table of Contents",
   "title_sidebar": "Contents",
   "toc_cell": false,
   "toc_position": {},
   "toc_section_display": true,
   "toc_window_display": true
  }
 },
 "nbformat": 4,
 "nbformat_minor": 4
}
