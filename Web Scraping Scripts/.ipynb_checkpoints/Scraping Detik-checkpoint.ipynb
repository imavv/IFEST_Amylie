{
 "cells": [
  {
   "cell_type": "markdown",
   "metadata": {},
   "source": [
    "# Scraping - Detik"
   ]
  },
  {
   "cell_type": "code",
   "execution_count": 1,
   "metadata": {},
   "outputs": [],
   "source": [
    "from selenium import webdriver\n",
    "from bs4 import BeautifulSoup as bs\n",
    "import requests\n",
    "from tqdm.notebook import tqdm_notebook\n",
    "import pandas as pd\n",
    "import os\n",
    "import time\n",
    "import warnings\n",
    "warnings.filterwarnings(\"ignore\")"
   ]
  },
  {
   "cell_type": "code",
   "execution_count": 2,
   "metadata": {},
   "outputs": [],
   "source": [
    "def readpage(url):\n",
    "    req = requests.get(url, verify=False)\n",
    "    page = bs(req.content, 'lxml')\n",
    "    return page"
   ]
  },
  {
   "cell_type": "code",
   "execution_count": 3,
   "metadata": {},
   "outputs": [],
   "source": [
    "driver = webdriver.Edge('msedgedriver.exe')"
   ]
  },
  {
   "cell_type": "code",
   "execution_count": 4,
   "metadata": {},
   "outputs": [],
   "source": [
    "website = 'https://www.detik.com/search/searchall?query=covid&siteid=2&sortby=time&page=1'\n",
    "driver.get(website)"
   ]
  },
  {
   "cell_type": "code",
   "execution_count": null,
   "metadata": {},
   "outputs": [
    {
     "data": {
      "application/vnd.jupyter.widget-view+json": {
       "model_id": "45117ddf51ee47e4be915a1f99b11a56",
       "version_major": 2,
       "version_minor": 0
      },
      "text/plain": [
       "HBox(children=(HTML(value=''), FloatProgress(value=0.0, max=150.0), HTML(value='')))"
      ]
     },
     "metadata": {},
     "output_type": "display_data"
    }
   ],
   "source": [
    "%%time\n",
    "judul_detik = []\n",
    "date_detik = []\n",
    "link_detik = []\n",
    "\n",
    "# Page Open\n",
    "for i in tqdm_notebook(range(150)):\n",
    "    page = bs(driver.page_source, 'lxml')\n",
    "    \n",
    "    # Define Group\n",
    "    group = page.find('div', {'class':'list media_rows list-berita'})\n",
    "    articles = group.findChildren('article', recursive=False)\n",
    "        \n",
    "    # Judul\n",
    "    judul = [article.find('h2', {'class':'title'}).get_text().strip() for article in articles]\n",
    "    judul_detik.extend(judul)\n",
    "    \n",
    "    # Date\n",
    "    for article in articles:\n",
    "        date = article.find('span', {'class':'date'}).text\n",
    "        date_detik.append(date)\n",
    "    \n",
    "    # Links\n",
    "    links = [article.find('a')['href'] for article in articles]\n",
    "    link_detik.extend(links)\n",
    "    \n",
    "    # Click Next Page\n",
    "    try:\n",
    "        next_page = driver.find_element_by_xpath('/html/body/div[2]/div/div[3]/a[7]')\n",
    "        next_page.click()\n",
    "    except:\n",
    "        next_page = driver.find_element_by_xpath('/html/body/div[2]/div/div[3]/a[6]')\n",
    "        next_page.click()\n",
    "        "
   ]
  },
  {
   "cell_type": "code",
   "execution_count": 275,
   "metadata": {},
   "outputs": [],
   "source": [
    "# Make into DF\n",
    "dtk_df = pd.DataFrame(list(zip(judul_detik, date_detik, link_detik)))\n",
    "dtk_df.columns = ['judul', 'tanggal', 'link']"
   ]
  },
  {
   "cell_type": "code",
   "execution_count": null,
   "metadata": {},
   "outputs": [],
   "source": [
    "# Put into CSV\n",
    "dtk_df.to_csv('detik_data.csv')"
   ]
  }
 ],
 "metadata": {
  "kernelspec": {
   "display_name": "Python 3",
   "language": "python",
   "name": "python3"
  },
  "language_info": {
   "codemirror_mode": {
    "name": "ipython",
    "version": 3
   },
   "file_extension": ".py",
   "mimetype": "text/x-python",
   "name": "python",
   "nbconvert_exporter": "python",
   "pygments_lexer": "ipython3",
   "version": "3.8.5"
  },
  "toc": {
   "base_numbering": 1,
   "nav_menu": {},
   "number_sections": false,
   "sideBar": true,
   "skip_h1_title": false,
   "title_cell": "Table of Contents",
   "title_sidebar": "Contents",
   "toc_cell": false,
   "toc_position": {
    "height": "calc(100% - 180px)",
    "left": "10px",
    "top": "150px",
    "width": "303.837px"
   },
   "toc_section_display": true,
   "toc_window_display": true
  }
 },
 "nbformat": 4,
 "nbformat_minor": 4
}
