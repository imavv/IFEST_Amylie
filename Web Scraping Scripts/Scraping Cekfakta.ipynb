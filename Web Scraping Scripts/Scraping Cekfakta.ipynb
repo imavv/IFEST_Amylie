{
 "cells": [
  {
   "cell_type": "markdown",
   "metadata": {},
   "source": [
    "# Scraper - Cekfakta\n",
    "Scraping was done on 5th September 2021 9:04 AM"
   ]
  },
  {
   "cell_type": "code",
   "execution_count": 33,
   "metadata": {},
   "outputs": [],
   "source": [
    "# Standard\n",
    "import pandas as pd\n",
    "import os\n",
    "\n",
    "# Crawlers\n",
    "from selenium import webdriver\n",
    "from bs4 import BeautifulSoup as bs\n",
    "import requests\n",
    "\n",
    "# For Time Monitoring\n",
    "from tqdm import tqdm\n",
    "from tqdm.notebook import tqdm_notebook\n",
    "import time\n",
    "\n",
    "# Warnings\n",
    "import warnings\n",
    "warnings.filterwarnings(\"ignore\")"
   ]
  },
  {
   "cell_type": "code",
   "execution_count": 2,
   "metadata": {},
   "outputs": [],
   "source": [
    "def readpage(url):\n",
    "    req = requests.get(url, verify=False)\n",
    "    page = bs(req.content, 'lxml')\n",
    "    return page"
   ]
  },
  {
   "cell_type": "code",
   "execution_count": 3,
   "metadata": {},
   "outputs": [],
   "source": [
    "driver = webdriver.Edge('msedgedriver.exe')"
   ]
  },
  {
   "cell_type": "code",
   "execution_count": 53,
   "metadata": {},
   "outputs": [
    {
     "name": "stdout",
     "output_type": "stream",
     "text": [
      "Wall time: 3.69 s\n"
     ]
    }
   ],
   "source": [
    "%%time\n",
    "website = 'https://cekfakta.com/page/'\n",
    "driver.get(website)"
   ]
  },
  {
   "cell_type": "code",
   "execution_count": 54,
   "metadata": {
    "scrolled": true
   },
   "outputs": [
    {
     "data": {
      "application/vnd.jupyter.widget-view+json": {
       "model_id": "100069c690934040acbf3a9b0b9b9f57",
       "version_major": 2,
       "version_minor": 0
      },
      "text/plain": [
       "HBox(children=(HTML(value=''), FloatProgress(value=0.0, max=1000.0), HTML(value='')))"
      ]
     },
     "metadata": {},
     "output_type": "display_data"
    },
    {
     "name": "stdout",
     "output_type": "stream",
     "text": [
      "\n",
      "Wall time: 1h 11min 41s\n"
     ]
    }
   ],
   "source": [
    "%%time\n",
    "judul_cf = []\n",
    "tanggal_cf = []\n",
    "link_cf = []\n",
    "\n",
    "# 1751\n",
    "\n",
    "for i in tqdm_notebook(range(1000)):\n",
    "    # Define Cards\n",
    "    cf = bs(driver.page_source, 'lxml')\n",
    "    cards = cf.find_all('li', {'class':'card'})\n",
    "\n",
    "    # Get Judul & Link\n",
    "    headers = [card.find('h1', {'class':'title'}) for card in cards]\n",
    "    # Get Judul\n",
    "    judul = [head.get_text().strip() for head in headers]\n",
    "    judul_cf.extend(judul)\n",
    "    # Get Link\n",
    "    links = [head.find('a')['href'] for head in headers]\n",
    "    link_cf.extend(links)\n",
    "    \n",
    "    # Get Tanggal\n",
    "    tanggal = [card.find('span', {'class':'info'}).get_text().strip() for card in cards]\n",
    "    tanggal_cf.extend(tanggal)\n",
    "    \n",
    "    # Next Page\n",
    "    np_button = driver.find_element_by_xpath(\".//div[@class='pagination-nav']/a[@rel='next']\")\n",
    "    np_button.click()\n",
    "    time.sleep(0.25)"
   ]
  },
  {
   "cell_type": "code",
   "execution_count": 46,
   "metadata": {},
   "outputs": [
    {
     "data": {
      "text/plain": [
       "['[SALAH] Akun Whatsapp Bupati Cianjur Berikan Bantuan untuk Pesantren',\n",
       " '[SALAH] Muammar Gaddafi Prediksi Covid-19',\n",
       " '[SALAH] Obat Covid-19 Molnulpiravir Mulai Beredar September Mendatang',\n",
       " '[SALAH] Artikel lanjutbaja.site: “Innalillahi, Masjid Meledak Saat Waktu Sholat Jumat, Sebanyak 20 Jamaah Meninggal Dunia, Semoga Husnol Khotimah Aminn”',\n",
       " '[SALAH] Mengonsumsi Banyak Petai Bisa Mengatasi Sakit Kaki hingga Kanker',\n",
       " '[SALAH] Ratu Elizabeth Pesan 80 Jersey Cristiano Ronaldo',\n",
       " '[SALAH] Foto “Safiya Firozi salah satu dari 4 empat pilot wanita Angkatan Udara #Afghanistan dirajam sampai MATI oleh #Taliban”',\n",
       " '[SALAH] Kartu Nikah dengan Empat Kolom Foto Istri',\n",
       " '[SALAH] Pesan Berantai Gojek Bagikan Rp 2 Juta Rayakan HUT ke-10',\n",
       " '[SALAH] “2 gambar wanita Kabul 1970 – 2021”',\n",
       " '[SALAH] Video “TERNYATA MENAG YAQUT PINDAH AGAMA DAN DIBAPTIS”',\n",
       " '[SALAH] Foto Gadis Remaja Tewas Dibuang Pacarnya ke Sungai',\n",
       " '[SALAH] Akun Facebook Asisten I Kota Padang',\n",
       " '[SALAH] Munarman Kritis Total, nasibnya memilukan',\n",
       " '[SALAH] “PPKM DILANJUTKAN SAMPAI HARI KIAMAT”',\n",
       " '[SALAH] “Madagaskar keluar dari WHO”',\n",
       " '[SALAH] Wakil Walikota Cirebon bagikan Informasi pembagian Donasi',\n",
       " '[SALAH] Ternyata Biaya untuk Cuci Ginjal Kurang dari 10.000',\n",
       " '[SALAH] Ketua KPU Tabanan I Gede Putu Weda Menjual Mobil Lelangan Melalui Whatsapp',\n",
       " '[SALAH] Campuran Air Kelapa Muda, Jeruk Nipis, Garam, dan Madu dapat Mengobati Covid-19']"
      ]
     },
     "execution_count": 46,
     "metadata": {},
     "output_type": "execute_result"
    }
   ],
   "source": [
    "judul_cf"
   ]
  },
  {
   "cell_type": "code",
   "execution_count": 6,
   "metadata": {},
   "outputs": [],
   "source": [
    "# Make into DF\n",
    "cf_df = pd.DataFrame(list(zip(judul_cf, tanggal_cf, link_cf)))\n",
    "cf_df.columns = ['judul', 'tanggal', 'link']"
   ]
  },
  {
   "cell_type": "code",
   "execution_count": 7,
   "metadata": {},
   "outputs": [],
   "source": [
    "# Put into CSV\n",
    "cf_df.to_csv('cf_data.csv', index=False)"
   ]
  },
  {
   "cell_type": "code",
   "execution_count": 48,
   "metadata": {},
   "outputs": [
    {
     "data": {
      "text/plain": [
       "66.66666666666667"
      ]
     },
     "execution_count": 48,
     "metadata": {},
     "output_type": "execute_result"
    }
   ],
   "source": [
    "4000 / 60"
   ]
  },
  {
   "cell_type": "code",
   "execution_count": null,
   "metadata": {},
   "outputs": [],
   "source": []
  }
 ],
 "metadata": {
  "kernelspec": {
   "display_name": "Python 3",
   "language": "python",
   "name": "python3"
  },
  "language_info": {
   "codemirror_mode": {
    "name": "ipython",
    "version": 3
   },
   "file_extension": ".py",
   "mimetype": "text/x-python",
   "name": "python",
   "nbconvert_exporter": "python",
   "pygments_lexer": "ipython3",
   "version": "3.8.5"
  },
  "toc": {
   "base_numbering": 1,
   "nav_menu": {},
   "number_sections": false,
   "sideBar": true,
   "skip_h1_title": false,
   "title_cell": "Table of Contents",
   "title_sidebar": "Contents",
   "toc_cell": false,
   "toc_position": {},
   "toc_section_display": true,
   "toc_window_display": true
  }
 },
 "nbformat": 4,
 "nbformat_minor": 4
}
