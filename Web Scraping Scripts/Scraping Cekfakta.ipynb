{
 "cells": [
  {
   "cell_type": "markdown",
   "metadata": {},
   "source": [
    "# Scraper - Cekfakta\n",
    "Scraping was done on 5th September 2021 9:04 AM"
   ]
  },
  {
   "cell_type": "code",
   "execution_count": 1,
   "metadata": {},
   "outputs": [],
   "source": [
    "# Standard\n",
    "import pandas as pd\n",
    "import os\n",
    "\n",
    "# Crawlers\n",
    "from selenium import webdriver\n",
    "from bs4 import BeautifulSoup as bs\n",
    "import requests\n",
    "\n",
    "# For Time Monitoring\n",
    "from tqdm import tqdm\n",
    "from tqdm.notebook import tqdm_notebook\n",
    "import time\n",
    "\n",
    "# Warnings\n",
    "import warnings\n",
    "warnings.filterwarnings(\"ignore\")"
   ]
  },
  {
   "cell_type": "code",
   "execution_count": 2,
   "metadata": {},
   "outputs": [],
   "source": [
    "def readpage(url):\n",
    "    req = requests.get(url, verify=False)\n",
    "    page = bs(req.content, 'lxml')\n",
    "    return page"
   ]
  },
  {
   "cell_type": "code",
   "execution_count": 3,
   "metadata": {},
   "outputs": [],
   "source": [
    "driver = webdriver.Edge('msedgedriver.exe')"
   ]
  },
  {
   "cell_type": "code",
   "execution_count": 53,
   "metadata": {},
   "outputs": [
    {
     "name": "stdout",
     "output_type": "stream",
     "text": [
      "Wall time: 3.69 s\n"
     ]
    }
   ],
   "source": [
    "%%time\n",
    "website = 'https://cekfakta.com/page/'\n",
    "driver.get(website)"
   ]
  },
  {
   "cell_type": "code",
   "execution_count": 54,
   "metadata": {
    "scrolled": true
   },
   "outputs": [
    {
     "data": {
      "application/vnd.jupyter.widget-view+json": {
       "model_id": "100069c690934040acbf3a9b0b9b9f57",
       "version_major": 2,
       "version_minor": 0
      },
      "text/plain": [
       "HBox(children=(HTML(value=''), FloatProgress(value=0.0, max=1000.0), HTML(value='')))"
      ]
     },
     "metadata": {},
     "output_type": "display_data"
    },
    {
     "name": "stdout",
     "output_type": "stream",
     "text": [
      "\n",
      "Wall time: 1h 11min 41s\n"
     ]
    }
   ],
   "source": [
    "%%time\n",
    "judul_cf = []\n",
    "tanggal_cf = []\n",
    "link_cf = []\n",
    "\n",
    "# 1751\n",
    "\n",
    "for i in tqdm_notebook(range(1000)):\n",
    "    # Define Cards\n",
    "    cf = bs(driver.page_source, 'lxml')\n",
    "    cards = cf.find_all('li', {'class':'card'})\n",
    "\n",
    "    # Get Judul & Link\n",
    "    headers = [card.find('h1', {'class':'title'}) for card in cards]\n",
    "    # Get Judul\n",
    "    judul = [head.get_text().strip() for head in headers]\n",
    "    judul_cf.extend(judul)\n",
    "    # Get Link\n",
    "    links = [head.find('a')['href'] for head in headers]\n",
    "    link_cf.extend(links)\n",
    "    \n",
    "    # Get Tanggal\n",
    "    tanggal = [card.find('span', {'class':'info'}).get_text().strip() for card in cards]\n",
    "    tanggal_cf.extend(tanggal)\n",
    "    \n",
    "    # Next Page\n",
    "    np_button = driver.find_element_by_xpath(\".//div[@class='pagination-nav']/a[@rel='next']\")\n",
    "    np_button.click()\n",
    "    time.sleep(0.25)"
   ]
  },
  {
   "cell_type": "code",
   "execution_count": 55,
   "metadata": {},
   "outputs": [
    {
     "data": {
      "text/plain": [
       "4000"
      ]
     },
     "execution_count": 55,
     "metadata": {},
     "output_type": "execute_result"
    }
   ],
   "source": [
    "len(judul_cf)"
   ]
  },
  {
   "cell_type": "code",
   "execution_count": 56,
   "metadata": {},
   "outputs": [],
   "source": [
    "# Make into DF\n",
    "cf_df = pd.DataFrame(list(zip(judul_cf, tanggal_cf, link_cf)))\n",
    "cf_df.columns = ['judul', 'tanggal', 'link']"
   ]
  },
  {
   "cell_type": "code",
   "execution_count": 57,
   "metadata": {},
   "outputs": [],
   "source": [
    "# Put into CSV\n",
    "cf_df.to_csv('cf_data.csv', index=False)"
   ]
  },
  {
   "cell_type": "markdown",
   "metadata": {},
   "source": [
    "## Find Corona"
   ]
  },
  {
   "cell_type": "code",
   "execution_count": null,
   "metadata": {},
   "outputs": [],
   "source": [
    "df = cf_df.copy()"
   ]
  },
  {
   "cell_type": "code",
   "execution_count": 18,
   "metadata": {},
   "outputs": [],
   "source": [
    "cf = df[df['judul'].apply(lambda x: ('Covid' in x) | \\\n",
    "    ('Vaksin' in x) | \\\n",
    "    ('Pandemi' in x) | \\\n",
    "  ('Coronavirus' in x) | \\\n",
    "                    ('Masker' in x))].reset_index(drop=True)"
   ]
  },
  {
   "cell_type": "code",
   "execution_count": 21,
   "metadata": {},
   "outputs": [],
   "source": [
    "cf.to_csv('cf_data_covid.csv')"
   ]
  }
 ],
 "metadata": {
  "kernelspec": {
   "display_name": "Python 3",
   "language": "python",
   "name": "python3"
  },
  "language_info": {
   "codemirror_mode": {
    "name": "ipython",
    "version": 3
   },
   "file_extension": ".py",
   "mimetype": "text/x-python",
   "name": "python",
   "nbconvert_exporter": "python",
   "pygments_lexer": "ipython3",
   "version": "3.8.5"
  },
  "toc": {
   "base_numbering": 1,
   "nav_menu": {},
   "number_sections": false,
   "sideBar": true,
   "skip_h1_title": false,
   "title_cell": "Table of Contents",
   "title_sidebar": "Contents",
   "toc_cell": false,
   "toc_position": {},
   "toc_section_display": true,
   "toc_window_display": true
  }
 },
 "nbformat": 4,
 "nbformat_minor": 4
}
