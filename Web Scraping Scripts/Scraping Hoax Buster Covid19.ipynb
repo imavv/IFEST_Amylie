{
 "cells": [
  {
   "cell_type": "markdown",
   "metadata": {},
   "source": [
    "# Scraper - Hoax Buster\n",
    "Scraping was done on 5th September 2021 9:04 AM"
   ]
  },
  {
   "cell_type": "code",
   "execution_count": 1,
   "metadata": {},
   "outputs": [],
   "source": [
    "# Standard\n",
    "import pandas as pd\n",
    "import os\n",
    "\n",
    "# Crawlers\n",
    "from selenium import webdriver\n",
    "from bs4 import BeautifulSoup as bs\n",
    "import requests\n",
    "\n",
    "# For Time Monitoring\n",
    "from tqdm import tqdm\n",
    "from tqdm.notebook import tqdm_notebook\n",
    "import time\n",
    "\n",
    "# Warnings\n",
    "import warnings\n",
    "warnings.filterwarnings(\"ignore\")"
   ]
  },
  {
   "cell_type": "code",
   "execution_count": 2,
   "metadata": {},
   "outputs": [],
   "source": [
    "def readpage(url):\n",
    "    req = requests.get(url, verify=False)\n",
    "    page = bs(req.content, 'lxml')\n",
    "    return page"
   ]
  },
  {
   "cell_type": "code",
   "execution_count": 3,
   "metadata": {},
   "outputs": [],
   "source": [
    "driver = webdriver.Edge('msedgedriver.exe')"
   ]
  },
  {
   "cell_type": "code",
   "execution_count": 4,
   "metadata": {},
   "outputs": [
    {
     "name": "stdout",
     "output_type": "stream",
     "text": [
      "Wall time: 11 s\n"
     ]
    }
   ],
   "source": [
    "%%time\n",
    "website = 'https://covid19.go.id/p/hoax-buster'\n",
    "driver.get(website)"
   ]
  },
  {
   "cell_type": "code",
   "execution_count": 13,
   "metadata": {
    "scrolled": true
   },
   "outputs": [
    {
     "data": {
      "application/vnd.jupyter.widget-view+json": {
       "model_id": "f27073869840480c82fd889937c5764c",
       "version_major": 2,
       "version_minor": 0
      },
      "text/plain": [
       "HBox(children=(HTML(value=''), FloatProgress(value=0.0, max=5.0), HTML(value='')))"
      ]
     },
     "metadata": {},
     "output_type": "display_data"
    },
    {
     "name": "stdout",
     "output_type": "stream",
     "text": [
      "\n"
     ]
    },
    {
     "ename": "NoSuchElementException",
     "evalue": "Message: no such element: Unable to locate element: {\"method\":\"xpath\",\"selector\":\".//li[contains(@class, 'next') and contains(@class, 'page-item')]/a[@class='page-link']\"}\n  (Session info: MicrosoftEdge=93.0.961.38)\n",
     "output_type": "error",
     "traceback": [
      "\u001b[1;31m---------------------------------------------------------------------------\u001b[0m",
      "\u001b[1;31mNoSuchElementException\u001b[0m                    Traceback (most recent call last)",
      "\u001b[1;32m<timed exec>\u001b[0m in \u001b[0;36m<module>\u001b[1;34m\u001b[0m\n",
      "\u001b[1;32mD:\\Anaconda\\lib\\site-packages\\selenium\\webdriver\\remote\\webdriver.py\u001b[0m in \u001b[0;36mfind_element_by_xpath\u001b[1;34m(self, xpath)\u001b[0m\n\u001b[0;32m    392\u001b[0m             \u001b[0melement\u001b[0m \u001b[1;33m=\u001b[0m \u001b[0mdriver\u001b[0m\u001b[1;33m.\u001b[0m\u001b[0mfind_element_by_xpath\u001b[0m\u001b[1;33m(\u001b[0m\u001b[1;34m'//div/td[1]'\u001b[0m\u001b[1;33m)\u001b[0m\u001b[1;33m\u001b[0m\u001b[1;33m\u001b[0m\u001b[0m\n\u001b[0;32m    393\u001b[0m         \"\"\"\n\u001b[1;32m--> 394\u001b[1;33m         \u001b[1;32mreturn\u001b[0m \u001b[0mself\u001b[0m\u001b[1;33m.\u001b[0m\u001b[0mfind_element\u001b[0m\u001b[1;33m(\u001b[0m\u001b[0mby\u001b[0m\u001b[1;33m=\u001b[0m\u001b[0mBy\u001b[0m\u001b[1;33m.\u001b[0m\u001b[0mXPATH\u001b[0m\u001b[1;33m,\u001b[0m \u001b[0mvalue\u001b[0m\u001b[1;33m=\u001b[0m\u001b[0mxpath\u001b[0m\u001b[1;33m)\u001b[0m\u001b[1;33m\u001b[0m\u001b[1;33m\u001b[0m\u001b[0m\n\u001b[0m\u001b[0;32m    395\u001b[0m \u001b[1;33m\u001b[0m\u001b[0m\n\u001b[0;32m    396\u001b[0m     \u001b[1;32mdef\u001b[0m \u001b[0mfind_elements_by_xpath\u001b[0m\u001b[1;33m(\u001b[0m\u001b[0mself\u001b[0m\u001b[1;33m,\u001b[0m \u001b[0mxpath\u001b[0m\u001b[1;33m)\u001b[0m\u001b[1;33m:\u001b[0m\u001b[1;33m\u001b[0m\u001b[1;33m\u001b[0m\u001b[0m\n",
      "\u001b[1;32mD:\\Anaconda\\lib\\site-packages\\selenium\\webdriver\\remote\\webdriver.py\u001b[0m in \u001b[0;36mfind_element\u001b[1;34m(self, by, value)\u001b[0m\n\u001b[0;32m    974\u001b[0m                 \u001b[0mby\u001b[0m \u001b[1;33m=\u001b[0m \u001b[0mBy\u001b[0m\u001b[1;33m.\u001b[0m\u001b[0mCSS_SELECTOR\u001b[0m\u001b[1;33m\u001b[0m\u001b[1;33m\u001b[0m\u001b[0m\n\u001b[0;32m    975\u001b[0m                 \u001b[0mvalue\u001b[0m \u001b[1;33m=\u001b[0m \u001b[1;34m'[name=\"%s\"]'\u001b[0m \u001b[1;33m%\u001b[0m \u001b[0mvalue\u001b[0m\u001b[1;33m\u001b[0m\u001b[1;33m\u001b[0m\u001b[0m\n\u001b[1;32m--> 976\u001b[1;33m         return self.execute(Command.FIND_ELEMENT, {\n\u001b[0m\u001b[0;32m    977\u001b[0m             \u001b[1;34m'using'\u001b[0m\u001b[1;33m:\u001b[0m \u001b[0mby\u001b[0m\u001b[1;33m,\u001b[0m\u001b[1;33m\u001b[0m\u001b[1;33m\u001b[0m\u001b[0m\n\u001b[0;32m    978\u001b[0m             'value': value})['value']\n",
      "\u001b[1;32mD:\\Anaconda\\lib\\site-packages\\selenium\\webdriver\\remote\\webdriver.py\u001b[0m in \u001b[0;36mexecute\u001b[1;34m(self, driver_command, params)\u001b[0m\n\u001b[0;32m    319\u001b[0m         \u001b[0mresponse\u001b[0m \u001b[1;33m=\u001b[0m \u001b[0mself\u001b[0m\u001b[1;33m.\u001b[0m\u001b[0mcommand_executor\u001b[0m\u001b[1;33m.\u001b[0m\u001b[0mexecute\u001b[0m\u001b[1;33m(\u001b[0m\u001b[0mdriver_command\u001b[0m\u001b[1;33m,\u001b[0m \u001b[0mparams\u001b[0m\u001b[1;33m)\u001b[0m\u001b[1;33m\u001b[0m\u001b[1;33m\u001b[0m\u001b[0m\n\u001b[0;32m    320\u001b[0m         \u001b[1;32mif\u001b[0m \u001b[0mresponse\u001b[0m\u001b[1;33m:\u001b[0m\u001b[1;33m\u001b[0m\u001b[1;33m\u001b[0m\u001b[0m\n\u001b[1;32m--> 321\u001b[1;33m             \u001b[0mself\u001b[0m\u001b[1;33m.\u001b[0m\u001b[0merror_handler\u001b[0m\u001b[1;33m.\u001b[0m\u001b[0mcheck_response\u001b[0m\u001b[1;33m(\u001b[0m\u001b[0mresponse\u001b[0m\u001b[1;33m)\u001b[0m\u001b[1;33m\u001b[0m\u001b[1;33m\u001b[0m\u001b[0m\n\u001b[0m\u001b[0;32m    322\u001b[0m             response['value'] = self._unwrap_value(\n\u001b[0;32m    323\u001b[0m                 response.get('value', None))\n",
      "\u001b[1;32mD:\\Anaconda\\lib\\site-packages\\selenium\\webdriver\\remote\\errorhandler.py\u001b[0m in \u001b[0;36mcheck_response\u001b[1;34m(self, response)\u001b[0m\n\u001b[0;32m    240\u001b[0m                 \u001b[0malert_text\u001b[0m \u001b[1;33m=\u001b[0m \u001b[0mvalue\u001b[0m\u001b[1;33m[\u001b[0m\u001b[1;34m'alert'\u001b[0m\u001b[1;33m]\u001b[0m\u001b[1;33m.\u001b[0m\u001b[0mget\u001b[0m\u001b[1;33m(\u001b[0m\u001b[1;34m'text'\u001b[0m\u001b[1;33m)\u001b[0m\u001b[1;33m\u001b[0m\u001b[1;33m\u001b[0m\u001b[0m\n\u001b[0;32m    241\u001b[0m             \u001b[1;32mraise\u001b[0m \u001b[0mexception_class\u001b[0m\u001b[1;33m(\u001b[0m\u001b[0mmessage\u001b[0m\u001b[1;33m,\u001b[0m \u001b[0mscreen\u001b[0m\u001b[1;33m,\u001b[0m \u001b[0mstacktrace\u001b[0m\u001b[1;33m,\u001b[0m \u001b[0malert_text\u001b[0m\u001b[1;33m)\u001b[0m\u001b[1;33m\u001b[0m\u001b[1;33m\u001b[0m\u001b[0m\n\u001b[1;32m--> 242\u001b[1;33m         \u001b[1;32mraise\u001b[0m \u001b[0mexception_class\u001b[0m\u001b[1;33m(\u001b[0m\u001b[0mmessage\u001b[0m\u001b[1;33m,\u001b[0m \u001b[0mscreen\u001b[0m\u001b[1;33m,\u001b[0m \u001b[0mstacktrace\u001b[0m\u001b[1;33m)\u001b[0m\u001b[1;33m\u001b[0m\u001b[1;33m\u001b[0m\u001b[0m\n\u001b[0m\u001b[0;32m    243\u001b[0m \u001b[1;33m\u001b[0m\u001b[0m\n\u001b[0;32m    244\u001b[0m     \u001b[1;32mdef\u001b[0m \u001b[0m_value_or_default\u001b[0m\u001b[1;33m(\u001b[0m\u001b[0mself\u001b[0m\u001b[1;33m,\u001b[0m \u001b[0mobj\u001b[0m\u001b[1;33m,\u001b[0m \u001b[0mkey\u001b[0m\u001b[1;33m,\u001b[0m \u001b[0mdefault\u001b[0m\u001b[1;33m)\u001b[0m\u001b[1;33m:\u001b[0m\u001b[1;33m\u001b[0m\u001b[1;33m\u001b[0m\u001b[0m\n",
      "\u001b[1;31mNoSuchElementException\u001b[0m: Message: no such element: Unable to locate element: {\"method\":\"xpath\",\"selector\":\".//li[contains(@class, 'next') and contains(@class, 'page-item')]/a[@class='page-link']\"}\n  (Session info: MicrosoftEdge=93.0.961.38)\n"
     ]
    }
   ],
   "source": [
    "%%time\n",
    "judul_hb = []\n",
    "tanggal_hb = []\n",
    "link_hb = []\n",
    "\n",
    "page = 1\n",
    "\n",
    "for i in tqdm_notebook(range(5)):\n",
    "    # Define Cards\n",
    "    hb = bs(driver.page_source, 'lxml')\n",
    "    cards = hb.find_all('div', {'class':'col-lg-4'})\n",
    "\n",
    "    # Get Judul & Link\n",
    "    headers = [card.find('h4', {'class':'card-title'}) for card in cards]\n",
    "    # Get Judul\n",
    "    judul = [head.get_text().strip() for head in headers]\n",
    "    judul_hb.extend(judul)\n",
    "    # Get Link\n",
    "    links = [head.find('a')['href'] for head in headers]\n",
    "    link_hb.extend(links)\n",
    "    \n",
    "    # Get Tanggal\n",
    "    tanggal = [card.find('time', {'class':'text-1'}).get_text().strip() for card in cards]\n",
    "    tanggal_hb.extend(tanggal)\n",
    "    \n",
    "    # Next Page\n",
    "    np_button = driver.find_element_by_xpath(\".//li[contains(@class, 'next') and contains(@class, 'page-item')]/a[@class='page-link']\")\n",
    "    np_button.click()\n",
    "    time.sleep(3)"
   ]
  },
  {
   "cell_type": "code",
   "execution_count": 14,
   "metadata": {},
   "outputs": [
    {
     "data": {
      "text/plain": [
       "['[SALAH] Link Pengecekan Penerima Bansos dengan NIK E-KTP',\n",
       " '[SALAH] Dukun Meninggal karena Covid-19 Setelah Menghirup Napas Pasien Covid-19',\n",
       " '[SALAH] Jadwal Vaksinasi Massal di Royal Plaza Surabaya Tanggal 2-6 Agustus 2021',\n",
       " '[SALAH] SMS Bantuan BPJS Kesehatan Sebesar Rp78 Juta',\n",
       " '[SALAH] Foto Jadwal Perilisan Varian Covid-19',\n",
       " '[SALAH] Pernyataan Moh Indro Cahyono “TERBONGKAR SUDAH!!! FAKTA COVID 19”',\n",
       " '[SALAH] “Tanggal pembuatan vaksin adalah 2018, setahun sebelum Covid-19 melanda”',\n",
       " 'Awas Hoaks: Bisnis Swab Palsu di Dalam Bus',\n",
       " '[SALAH] Bantuan PPKM Rp1 Juta Bagi Pemilik Sertifikat Vaksinasi',\n",
       " '[SALAH] Daun Sungkai dapat Menangkal Covid-19',\n",
       " '[SALAH] BNPB Membuka Donasi Kaos Oblong bagi Tenaga Medis dan Relawan Satgas Covid 19',\n",
       " '[SALAH] Video Kericuhan Terminal kota Lampung',\n",
       " '[SALAH] Data Pendonor Plasma Darah Konvalesen Area Jogja',\n",
       " '[SALAH] “KITA BUKAN BODOH TAPI DIBODOHKAN KITA TIDAK MISKIN TAPI DIMISKIN OLEH SEBUAH SISTEM #PPKMLevel4Diperpanjang”',\n",
       " '[SALAH] Orang yang Pernah Terinfeksi Covid-19 Memiliki Imunitas Lebih Baik Ketimbang yang Divaksin',\n",
       " '[SALAH] Air Keran Positif Covid-19',\n",
       " '[SALAH] Vaksin dengan Pfizer Dapat Menularkan Virus ke Orang yang Belum Divaksin',\n",
       " '[SALAH] Vaksin Mengandung Racun Berbahaya',\n",
       " '[SALAH] CNN Indonesia Menawarkan Hadiah agar Warga Bersedia Divaksin',\n",
       " '[SALAH] Foto Beberapa Jenazah Covid-19 di Bekasi',\n",
       " '[SALAH] Mata Jenazah Covid-19 diambil tanpa Sepengetahuan Keluarga',\n",
       " '[SALAH] Video “PESTA MIRAS TKA CINA DI MASA PANDEMI”',\n",
       " '[SALAH] Video “pengurusan Covid di Indon”',\n",
       " '[SALAH] Video Penangkapan Setelah Shalat Idul Adha di Bekasi']"
      ]
     },
     "execution_count": 14,
     "metadata": {},
     "output_type": "execute_result"
    }
   ],
   "source": [
    "judul_hb"
   ]
  },
  {
   "cell_type": "code",
   "execution_count": 56,
   "metadata": {},
   "outputs": [],
   "source": [
    "# Make into DF\n",
    "cf_df = pd.DataFrame(list(zip(judul_cf, tanggal_cf, link_cf)))\n",
    "cf_df.columns = ['judul', 'tanggal', 'link']"
   ]
  },
  {
   "cell_type": "code",
   "execution_count": 57,
   "metadata": {},
   "outputs": [],
   "source": [
    "# Put into CSV\n",
    "cf_df.to_csv('cf_data.csv', index=False)"
   ]
  },
  {
   "cell_type": "code",
   "execution_count": 58,
   "metadata": {},
   "outputs": [
    {
     "data": {
      "text/html": [
       "<div>\n",
       "<style scoped>\n",
       "    .dataframe tbody tr th:only-of-type {\n",
       "        vertical-align: middle;\n",
       "    }\n",
       "\n",
       "    .dataframe tbody tr th {\n",
       "        vertical-align: top;\n",
       "    }\n",
       "\n",
       "    .dataframe thead th {\n",
       "        text-align: right;\n",
       "    }\n",
       "</style>\n",
       "<table border=\"1\" class=\"dataframe\">\n",
       "  <thead>\n",
       "    <tr style=\"text-align: right;\">\n",
       "      <th></th>\n",
       "      <th>judul</th>\n",
       "      <th>tanggal</th>\n",
       "      <th>link</th>\n",
       "    </tr>\n",
       "  </thead>\n",
       "  <tbody>\n",
       "    <tr>\n",
       "      <th>0</th>\n",
       "      <td>[SALAH] Akun Whatsapp Bupati Cianjur Berikan B...</td>\n",
       "      <td>Sumber: \\n                    whatsapp.com    ...</td>\n",
       "      <td>https://cekfakta.com/focus/7512</td>\n",
       "    </tr>\n",
       "    <tr>\n",
       "      <th>1</th>\n",
       "      <td>[SALAH] Muammar Gaddafi Prediksi Covid-19</td>\n",
       "      <td>Sumber: \\n                     \\n             ...</td>\n",
       "      <td>https://cekfakta.com/focus/7511</td>\n",
       "    </tr>\n",
       "    <tr>\n",
       "      <th>2</th>\n",
       "      <td>[SALAH] Obat Covid-19 Molnulpiravir Mulai Bere...</td>\n",
       "      <td>Sumber: \\n                    whatsapp.com    ...</td>\n",
       "      <td>https://cekfakta.com/focus/7510</td>\n",
       "    </tr>\n",
       "    <tr>\n",
       "      <th>3</th>\n",
       "      <td>[SALAH] Artikel lanjutbaja.site: “Innalillahi,...</td>\n",
       "      <td>Sumber: \\n                     \\n             ...</td>\n",
       "      <td>https://cekfakta.com/focus/7509</td>\n",
       "    </tr>\n",
       "    <tr>\n",
       "      <th>4</th>\n",
       "      <td>[SALAH] Mengonsumsi Banyak Petai Bisa Mengatas...</td>\n",
       "      <td>Sumber: \\n                    WhatsApp        ...</td>\n",
       "      <td>https://cekfakta.com/focus/7508</td>\n",
       "    </tr>\n",
       "    <tr>\n",
       "      <th>...</th>\n",
       "      <td>...</td>\n",
       "      <td>...</td>\n",
       "      <td>...</td>\n",
       "    </tr>\n",
       "    <tr>\n",
       "      <th>3995</th>\n",
       "      <td>[BERITA] Sriwijaya Air Group Bantah Setop Operasi</td>\n",
       "      <td>Sumber: \\n                                    ...</td>\n",
       "      <td>https://cekfakta.com/focus/3126</td>\n",
       "    </tr>\n",
       "    <tr>\n",
       "      <th>3996</th>\n",
       "      <td>[KLARIFIKASI] Ambulans DKI Tidak Membawa Batu ...</td>\n",
       "      <td>Sumber: \\n                                    ...</td>\n",
       "      <td>https://cekfakta.com/focus/3125</td>\n",
       "    </tr>\n",
       "    <tr>\n",
       "      <th>3997</th>\n",
       "      <td>[KLARIFIKASI] KPK Beri Klarifikasi Atas Isu Tu...</td>\n",
       "      <td>Sumber: \\n                     \\n             ...</td>\n",
       "      <td>https://cekfakta.com/focus/3124</td>\n",
       "    </tr>\n",
       "    <tr>\n",
       "      <th>3998</th>\n",
       "      <td>[SALAH] Faisal Amir, Mahasiswa Universitas Al ...</td>\n",
       "      <td>Sumber: \\n                     \\n             ...</td>\n",
       "      <td>https://cekfakta.com/focus/3123</td>\n",
       "    </tr>\n",
       "    <tr>\n",
       "      <th>3999</th>\n",
       "      <td>[KLARIFIKASI] Universitas Brawijaya dan UMM Ba...</td>\n",
       "      <td>Sumber: \\n                    Media Online    ...</td>\n",
       "      <td>https://cekfakta.com/focus/3122</td>\n",
       "    </tr>\n",
       "  </tbody>\n",
       "</table>\n",
       "<p>4000 rows × 3 columns</p>\n",
       "</div>"
      ],
      "text/plain": [
       "                                                  judul  \\\n",
       "0     [SALAH] Akun Whatsapp Bupati Cianjur Berikan B...   \n",
       "1             [SALAH] Muammar Gaddafi Prediksi Covid-19   \n",
       "2     [SALAH] Obat Covid-19 Molnulpiravir Mulai Bere...   \n",
       "3     [SALAH] Artikel lanjutbaja.site: “Innalillahi,...   \n",
       "4     [SALAH] Mengonsumsi Banyak Petai Bisa Mengatas...   \n",
       "...                                                 ...   \n",
       "3995  [BERITA] Sriwijaya Air Group Bantah Setop Operasi   \n",
       "3996  [KLARIFIKASI] Ambulans DKI Tidak Membawa Batu ...   \n",
       "3997  [KLARIFIKASI] KPK Beri Klarifikasi Atas Isu Tu...   \n",
       "3998  [SALAH] Faisal Amir, Mahasiswa Universitas Al ...   \n",
       "3999  [KLARIFIKASI] Universitas Brawijaya dan UMM Ba...   \n",
       "\n",
       "                                                tanggal  \\\n",
       "0     Sumber: \\n                    whatsapp.com    ...   \n",
       "1     Sumber: \\n                     \\n             ...   \n",
       "2     Sumber: \\n                    whatsapp.com    ...   \n",
       "3     Sumber: \\n                     \\n             ...   \n",
       "4     Sumber: \\n                    WhatsApp        ...   \n",
       "...                                                 ...   \n",
       "3995  Sumber: \\n                                    ...   \n",
       "3996  Sumber: \\n                                    ...   \n",
       "3997  Sumber: \\n                     \\n             ...   \n",
       "3998  Sumber: \\n                     \\n             ...   \n",
       "3999  Sumber: \\n                    Media Online    ...   \n",
       "\n",
       "                                 link  \n",
       "0     https://cekfakta.com/focus/7512  \n",
       "1     https://cekfakta.com/focus/7511  \n",
       "2     https://cekfakta.com/focus/7510  \n",
       "3     https://cekfakta.com/focus/7509  \n",
       "4     https://cekfakta.com/focus/7508  \n",
       "...                               ...  \n",
       "3995  https://cekfakta.com/focus/3126  \n",
       "3996  https://cekfakta.com/focus/3125  \n",
       "3997  https://cekfakta.com/focus/3124  \n",
       "3998  https://cekfakta.com/focus/3123  \n",
       "3999  https://cekfakta.com/focus/3122  \n",
       "\n",
       "[4000 rows x 3 columns]"
      ]
     },
     "execution_count": 58,
     "metadata": {},
     "output_type": "execute_result"
    }
   ],
   "source": [
    "cf_df"
   ]
  },
  {
   "cell_type": "code",
   "execution_count": null,
   "metadata": {},
   "outputs": [],
   "source": []
  }
 ],
 "metadata": {
  "kernelspec": {
   "display_name": "Python 3",
   "language": "python",
   "name": "python3"
  },
  "language_info": {
   "codemirror_mode": {
    "name": "ipython",
    "version": 3
   },
   "file_extension": ".py",
   "mimetype": "text/x-python",
   "name": "python",
   "nbconvert_exporter": "python",
   "pygments_lexer": "ipython3",
   "version": "3.8.5"
  },
  "toc": {
   "base_numbering": 1,
   "nav_menu": {},
   "number_sections": false,
   "sideBar": true,
   "skip_h1_title": false,
   "title_cell": "Table of Contents",
   "title_sidebar": "Contents",
   "toc_cell": false,
   "toc_position": {},
   "toc_section_display": true,
   "toc_window_display": true
  }
 },
 "nbformat": 4,
 "nbformat_minor": 4
}
