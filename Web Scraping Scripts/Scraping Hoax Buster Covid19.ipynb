{
 "cells": [
  {
   "cell_type": "markdown",
   "metadata": {},
   "source": [
    "# Scraper - Hoax Buster\n",
    "Scraping was done on 5th September 2021 9:04 AM"
   ]
  },
  {
   "cell_type": "code",
   "execution_count": 1,
   "metadata": {},
   "outputs": [],
   "source": [
    "# Standard\n",
    "import pandas as pd\n",
    "import os\n",
    "\n",
    "# Crawlers\n",
    "from selenium import webdriver\n",
    "from bs4 import BeautifulSoup as bs\n",
    "import requests\n",
    "\n",
    "# For Time Monitoring\n",
    "from tqdm import tqdm\n",
    "from tqdm.notebook import tqdm_notebook\n",
    "import time\n",
    "\n",
    "# Warnings\n",
    "import warnings\n",
    "warnings.filterwarnings(\"ignore\")"
   ]
  },
  {
   "cell_type": "code",
   "execution_count": 2,
   "metadata": {},
   "outputs": [],
   "source": [
    "def readpage(url):\n",
    "    req = requests.get(url, verify=False)\n",
    "    page = bs(req.content, 'lxml')\n",
    "    return page"
   ]
  },
  {
   "cell_type": "code",
   "execution_count": 16,
   "metadata": {},
   "outputs": [],
   "source": [
    "driver = webdriver.Edge('msedgedriver.exe')"
   ]
  },
  {
   "cell_type": "code",
   "execution_count": 17,
   "metadata": {},
   "outputs": [
    {
     "name": "stdout",
     "output_type": "stream",
     "text": [
      "Wall time: 5.19 s\n"
     ]
    }
   ],
   "source": [
    "%%time\n",
    "website = 'https://covid19.go.id/p/hoax-buster'\n",
    "driver.get(website)"
   ]
  },
  {
   "cell_type": "code",
   "execution_count": 27,
   "metadata": {
    "scrolled": true
   },
   "outputs": [
    {
     "data": {
      "application/vnd.jupyter.widget-view+json": {
       "model_id": "3485cb62c6164e72a671e957d9fc4380",
       "version_major": 2,
       "version_minor": 0
      },
      "text/plain": [
       "HBox(children=(HTML(value=''), FloatProgress(value=0.0, max=92.0), HTML(value='')))"
      ]
     },
     "metadata": {},
     "output_type": "display_data"
    },
    {
     "name": "stdout",
     "output_type": "stream",
     "text": [
      "\n",
      "Wall time: 12min 17s\n"
     ]
    }
   ],
   "source": [
    "%%time\n",
    "judul_hb = []\n",
    "tanggal_hb = []\n",
    "link_hb = []\n",
    "\n",
    "page = 1\n",
    "lp = 'https://covid19.go.id/p/hoax-buster'\n",
    "\n",
    "for i in tqdm_notebook(range(92)):\n",
    "    # Define Cards\n",
    "    driver.get(lp)\n",
    "    hb = bs(driver.page_source, 'lxml')\n",
    "    cards = hb.find_all('div', {'class':'col-lg-4'})\n",
    "\n",
    "    # Get Judul & Link\n",
    "    headers = [card.find('h4', {'class':'card-title'}) for card in cards]\n",
    "    # Get Judul\n",
    "    judul = [head.get_text().strip() for head in headers]\n",
    "    judul_hb.extend(judul)\n",
    "    # Get Link\n",
    "    links = [head.find('a')['href'] for head in headers]\n",
    "    link_hb.extend(links)\n",
    "    \n",
    "    # Get Tanggal\n",
    "    tanggal = [card.find('time', {'class':'text-1'}).get_text().strip() for card in cards]\n",
    "    tanggal_hb.extend(tanggal)\n",
    "    \n",
    "    # Next Page\n",
    "    page += 1\n",
    "    lp = 'https://covid19.go.id/p/hoax-buster?page='+str(page)+'&search='"
   ]
  },
  {
   "cell_type": "code",
   "execution_count": 28,
   "metadata": {},
   "outputs": [
    {
     "data": {
      "text/plain": [
       "636"
      ]
     },
     "execution_count": 28,
     "metadata": {},
     "output_type": "execute_result"
    }
   ],
   "source": [
    "len(judul_hb)"
   ]
  },
  {
   "cell_type": "code",
   "execution_count": 29,
   "metadata": {},
   "outputs": [],
   "source": [
    "# Make into DF\n",
    "hb_df = pd.DataFrame(list(zip(judul_hb, tanggal_hb, link_hb)))\n",
    "hb_df.columns = ['judul', 'tanggal', 'link']"
   ]
  },
  {
   "cell_type": "code",
   "execution_count": 31,
   "metadata": {},
   "outputs": [],
   "source": [
    "# Put into CSV\n",
    "hb_df.to_csv('hb_data.csv', index=False)"
   ]
  },
  {
   "cell_type": "code",
   "execution_count": 30,
   "metadata": {},
   "outputs": [
    {
     "data": {
      "text/html": [
       "<div>\n",
       "<style scoped>\n",
       "    .dataframe tbody tr th:only-of-type {\n",
       "        vertical-align: middle;\n",
       "    }\n",
       "\n",
       "    .dataframe tbody tr th {\n",
       "        vertical-align: top;\n",
       "    }\n",
       "\n",
       "    .dataframe thead th {\n",
       "        text-align: right;\n",
       "    }\n",
       "</style>\n",
       "<table border=\"1\" class=\"dataframe\">\n",
       "  <thead>\n",
       "    <tr style=\"text-align: right;\">\n",
       "      <th></th>\n",
       "      <th>judul</th>\n",
       "      <th>tanggal</th>\n",
       "      <th>link</th>\n",
       "    </tr>\n",
       "  </thead>\n",
       "  <tbody>\n",
       "    <tr>\n",
       "      <th>0</th>\n",
       "      <td>Awas Hoaks: Mengunyah Cengkeh atau Kayu Manis ...</td>\n",
       "      <td>06 Sep 2021</td>\n",
       "      <td>https://covid19.go.id/p/hoax-buster/awas-hoaks...</td>\n",
       "    </tr>\n",
       "    <tr>\n",
       "      <th>1</th>\n",
       "      <td>[SALAH] Pesan Berantai Tim Vaksinasi GSP Memin...</td>\n",
       "      <td>06 Sep 2021</td>\n",
       "      <td>https://covid19.go.id/p/hoax-buster/salah-pesa...</td>\n",
       "    </tr>\n",
       "    <tr>\n",
       "      <th>2</th>\n",
       "      <td>[SALAH] Mencuci Hidung Dengan Garam Menghilang...</td>\n",
       "      <td>06 Sep 2021</td>\n",
       "      <td>https://covid19.go.id/p/hoax-buster/salah-menc...</td>\n",
       "    </tr>\n",
       "    <tr>\n",
       "      <th>3</th>\n",
       "      <td>Awas Hoaks: Video Siswa Lumpuh Usai Divaksinas...</td>\n",
       "      <td>04 Sep 2021</td>\n",
       "      <td>https://covid19.go.id/p/hoax-buster/awas-hoaks...</td>\n",
       "    </tr>\n",
       "    <tr>\n",
       "      <th>4</th>\n",
       "      <td>[SALAH] Muammar Gaddafi Prediksi Covid-19</td>\n",
       "      <td>04 Sep 2021</td>\n",
       "      <td>https://covid19.go.id/p/hoax-buster/salah-muam...</td>\n",
       "    </tr>\n",
       "    <tr>\n",
       "      <th>...</th>\n",
       "      <td>...</td>\n",
       "      <td>...</td>\n",
       "      <td>...</td>\n",
       "    </tr>\n",
       "    <tr>\n",
       "      <th>631</th>\n",
       "      <td>[SALAH] Foto “Disuruh Diam di Rumah 14 Hari Ma...</td>\n",
       "      <td>16 Mar 2020</td>\n",
       "      <td>https://covid19.go.id/p/hoax-buster/salah-foto...</td>\n",
       "    </tr>\n",
       "    <tr>\n",
       "      <th>632</th>\n",
       "      <td>[SALAH] “China Akui Dokter Palestina Penemu Va...</td>\n",
       "      <td>16 Mar 2020</td>\n",
       "      <td>https://covid19.go.id/p/hoax-buster/salah-chin...</td>\n",
       "    </tr>\n",
       "    <tr>\n",
       "      <th>633</th>\n",
       "      <td>[BERITA] 49 WN Tiongkok yang Masuk ke Sultra T...</td>\n",
       "      <td>16 Mar 2020</td>\n",
       "      <td>https://covid19.go.id/p/hoax-buster/berita-49-...</td>\n",
       "    </tr>\n",
       "    <tr>\n",
       "      <th>634</th>\n",
       "      <td>[SALAH] “Alkohol Bisa Membunuh Coronavirus COV...</td>\n",
       "      <td>16 Mar 2020</td>\n",
       "      <td>https://covid19.go.id/p/hoax-buster/salah-alko...</td>\n",
       "    </tr>\n",
       "    <tr>\n",
       "      <th>635</th>\n",
       "      <td>[Top 5] Topik Teratas Periksa Fakta MAFINDO Pe...</td>\n",
       "      <td>16 Mar 2020</td>\n",
       "      <td>https://covid19.go.id/p/hoax-buster/top-5-topi...</td>\n",
       "    </tr>\n",
       "  </tbody>\n",
       "</table>\n",
       "<p>636 rows × 3 columns</p>\n",
       "</div>"
      ],
      "text/plain": [
       "                                                 judul      tanggal  \\\n",
       "0    Awas Hoaks: Mengunyah Cengkeh atau Kayu Manis ...  06 Sep 2021   \n",
       "1    [SALAH] Pesan Berantai Tim Vaksinasi GSP Memin...  06 Sep 2021   \n",
       "2    [SALAH] Mencuci Hidung Dengan Garam Menghilang...  06 Sep 2021   \n",
       "3    Awas Hoaks: Video Siswa Lumpuh Usai Divaksinas...  04 Sep 2021   \n",
       "4            [SALAH] Muammar Gaddafi Prediksi Covid-19  04 Sep 2021   \n",
       "..                                                 ...          ...   \n",
       "631  [SALAH] Foto “Disuruh Diam di Rumah 14 Hari Ma...  16 Mar 2020   \n",
       "632  [SALAH] “China Akui Dokter Palestina Penemu Va...  16 Mar 2020   \n",
       "633  [BERITA] 49 WN Tiongkok yang Masuk ke Sultra T...  16 Mar 2020   \n",
       "634  [SALAH] “Alkohol Bisa Membunuh Coronavirus COV...  16 Mar 2020   \n",
       "635  [Top 5] Topik Teratas Periksa Fakta MAFINDO Pe...  16 Mar 2020   \n",
       "\n",
       "                                                  link  \n",
       "0    https://covid19.go.id/p/hoax-buster/awas-hoaks...  \n",
       "1    https://covid19.go.id/p/hoax-buster/salah-pesa...  \n",
       "2    https://covid19.go.id/p/hoax-buster/salah-menc...  \n",
       "3    https://covid19.go.id/p/hoax-buster/awas-hoaks...  \n",
       "4    https://covid19.go.id/p/hoax-buster/salah-muam...  \n",
       "..                                                 ...  \n",
       "631  https://covid19.go.id/p/hoax-buster/salah-foto...  \n",
       "632  https://covid19.go.id/p/hoax-buster/salah-chin...  \n",
       "633  https://covid19.go.id/p/hoax-buster/berita-49-...  \n",
       "634  https://covid19.go.id/p/hoax-buster/salah-alko...  \n",
       "635  https://covid19.go.id/p/hoax-buster/top-5-topi...  \n",
       "\n",
       "[636 rows x 3 columns]"
      ]
     },
     "execution_count": 30,
     "metadata": {},
     "output_type": "execute_result"
    }
   ],
   "source": [
    "hb_df"
   ]
  },
  {
   "cell_type": "code",
   "execution_count": null,
   "metadata": {},
   "outputs": [],
   "source": []
  }
 ],
 "metadata": {
  "kernelspec": {
   "display_name": "Python 3",
   "language": "python",
   "name": "python3"
  },
  "language_info": {
   "codemirror_mode": {
    "name": "ipython",
    "version": 3
   },
   "file_extension": ".py",
   "mimetype": "text/x-python",
   "name": "python",
   "nbconvert_exporter": "python",
   "pygments_lexer": "ipython3",
   "version": "3.8.5"
  },
  "toc": {
   "base_numbering": 1,
   "nav_menu": {},
   "number_sections": false,
   "sideBar": true,
   "skip_h1_title": false,
   "title_cell": "Table of Contents",
   "title_sidebar": "Contents",
   "toc_cell": false,
   "toc_position": {},
   "toc_section_display": true,
   "toc_window_display": true
  }
 },
 "nbformat": 4,
 "nbformat_minor": 4
}
