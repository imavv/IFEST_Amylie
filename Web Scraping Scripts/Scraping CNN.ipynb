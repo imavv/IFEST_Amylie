{
 "cells": [
  {
   "cell_type": "markdown",
   "metadata": {},
   "source": [
    "# Scraper - CNN Indonesia\n",
    "Scraping was done on 5th September 2021 9:04 AM"
   ]
  },
  {
   "cell_type": "code",
   "execution_count": 13,
   "metadata": {},
   "outputs": [],
   "source": [
    "# Standard\n",
    "import pandas as pd\n",
    "import os\n",
    "\n",
    "# Crawlers\n",
    "from selenium import webdriver\n",
    "from bs4 import BeautifulSoup as bs\n",
    "import requests\n",
    "\n",
    "# For Time Monitoring\n",
    "from tqdm import tqdm\n",
    "from tqdm.notebook import tqdm_notebook\n",
    "import time\n",
    "\n",
    "# Warnings\n",
    "import warnings\n",
    "warnings.filterwarnings(\"ignore\")"
   ]
  },
  {
   "cell_type": "code",
   "execution_count": 9,
   "metadata": {},
   "outputs": [],
   "source": [
    "def readpage(url):\n",
    "    req = requests.get(url, verify=False)\n",
    "    page = bs(req.content, 'lxml')\n",
    "    return page"
   ]
  },
  {
   "cell_type": "code",
   "execution_count": 10,
   "metadata": {},
   "outputs": [],
   "source": [
    "driver = webdriver.Edge('msedgedriver.exe')"
   ]
  },
  {
   "cell_type": "code",
   "execution_count": 14,
   "metadata": {},
   "outputs": [
    {
     "name": "stdout",
     "output_type": "stream",
     "text": [
      "Wall time: 2.43 s\n"
     ]
    }
   ],
   "source": [
    "%%time\n",
    "website = 'https://www.cnnindonesia.com/search?query=covid'\n",
    "driver.get(website)"
   ]
  },
  {
   "cell_type": "code",
   "execution_count": 15,
   "metadata": {},
   "outputs": [
    {
     "data": {
      "application/vnd.jupyter.widget-view+json": {
       "model_id": "4d97f2d8d9bd4ad8ae6a9ac2f7801797",
       "version_major": 2,
       "version_minor": 0
      },
      "text/plain": [
       "HBox(children=(HTML(value=''), FloatProgress(value=0.0, max=200.0), HTML(value='')))"
      ]
     },
     "metadata": {},
     "output_type": "display_data"
    },
    {
     "name": "stdout",
     "output_type": "stream",
     "text": [
      "\n",
      "Complete!\n",
      "Wall time: 18min 46s\n"
     ]
    }
   ],
   "source": [
    "%%time\n",
    "judul_cnn = []\n",
    "link_cnn = []\n",
    "date_cnn = []\n",
    "\n",
    "# Page\n",
    "for i in tqdm_notebook(range(200)):\n",
    "    next_page = driver.find_element_by_class_name('gtm_button_indeks')\n",
    "    next_page.click()\n",
    "    time.sleep(0.5)\n",
    "\n",
    "# Define Container\n",
    "cnn = bs(driver.page_source, 'lxml')\n",
    "container = cnn.find('div', {'class':'list media_rows middle'})\n",
    "# Get Articles In Container\n",
    "articles = container.findChildren('article')\n",
    "\n",
    "# Get Judul\n",
    "for article in articles:\n",
    "    judul_cnn.append(article.find('h2',{'class':'title'}).get_text())\n",
    "\n",
    "# Get Links\n",
    "for article in articles:\n",
    "    childlink = article.findChildren('a')\n",
    "    link = childlink[0]['href']\n",
    "    link_cnn.append(link)\n",
    "\n",
    "# Dates\n",
    "for link in link_cnn:\n",
    "    page = readpage(link)\n",
    "    date = page.find('div', {'class':'date'}).get_text().strip()\n",
    "    date_cnn.append(date)\n",
    "    \n",
    "print('Complete!')"
   ]
  },
  {
   "cell_type": "code",
   "execution_count": 23,
   "metadata": {},
   "outputs": [],
   "source": [
    "# Make into DF\n",
    "cnn_df = pd.DataFrame(list(zip(judul_cnn, date_cnn, link_cnn)))\n",
    "cnn_df.columns = ['judul', 'tanggal', 'link']"
   ]
  },
  {
   "cell_type": "code",
   "execution_count": 24,
   "metadata": {},
   "outputs": [],
   "source": [
    "# Put into CSV\n",
    "cnn_df.to_csv('cnn_data.csv', index=False)"
   ]
  },
  {
   "cell_type": "code",
   "execution_count": 25,
   "metadata": {},
   "outputs": [
    {
     "data": {
      "text/html": [
       "<div>\n",
       "<style scoped>\n",
       "    .dataframe tbody tr th:only-of-type {\n",
       "        vertical-align: middle;\n",
       "    }\n",
       "\n",
       "    .dataframe tbody tr th {\n",
       "        vertical-align: top;\n",
       "    }\n",
       "\n",
       "    .dataframe thead th {\n",
       "        text-align: right;\n",
       "    }\n",
       "</style>\n",
       "<table border=\"1\" class=\"dataframe\">\n",
       "  <thead>\n",
       "    <tr style=\"text-align: right;\">\n",
       "      <th></th>\n",
       "      <th>judul</th>\n",
       "      <th>tanggal</th>\n",
       "      <th>link</th>\n",
       "    </tr>\n",
       "  </thead>\n",
       "  <tbody>\n",
       "    <tr>\n",
       "      <th>0</th>\n",
       "      <td>Brazil Menangguhkan 12 Juta Dosis Vaksin Sinov...</td>\n",
       "      <td>CNN Indonesia | Minggu, 05/09/2021 07:16 WIB</td>\n",
       "      <td>https://www.cnnindonesia.com/internasional/202...</td>\n",
       "    </tr>\n",
       "    <tr>\n",
       "      <th>1</th>\n",
       "      <td>Penanganan Stroke Lewat Aplikasi FAST Rescue</td>\n",
       "      <td>CNN Indonesia | Minggu, 05/09/2021 01:45 WIB</td>\n",
       "      <td>https://www.cnnindonesia.com/gaya-hidup/202108...</td>\n",
       "    </tr>\n",
       "    <tr>\n",
       "      <th>2</th>\n",
       "      <td>PDPI Ungkap Kasus TBC RI Salah Satu Tertinggi ...</td>\n",
       "      <td>CNN Indonesia | Minggu, 05/09/2021 00:18 WIB</td>\n",
       "      <td>https://www.cnnindonesia.com/gaya-hidup/202109...</td>\n",
       "    </tr>\n",
       "    <tr>\n",
       "      <th>3</th>\n",
       "      <td>BOR RS Rujukan di Medan Turun Jadi 56 Persen</td>\n",
       "      <td>CNN Indonesia | Sabtu, 04/09/2021 23:38 WIB</td>\n",
       "      <td>https://www.cnnindonesia.com/nasional/20210904...</td>\n",
       "    </tr>\n",
       "    <tr>\n",
       "      <th>4</th>\n",
       "      <td>VIDEO: Menjemput Rezeki di Masa Pandemi</td>\n",
       "      <td>Digital Admin, CNN Indonesia | Sabtu, 04/09/20...</td>\n",
       "      <td>https://www.cnnindonesia.com/tv/20210903212959...</td>\n",
       "    </tr>\n",
       "    <tr>\n",
       "      <th>...</th>\n",
       "      <td>...</td>\n",
       "      <td>...</td>\n",
       "      <td>...</td>\n",
       "    </tr>\n",
       "    <tr>\n",
       "      <th>1402</th>\n",
       "      <td>Mahfud Sebut Masalah Lahan Venue PON 2020 Sege...</td>\n",
       "      <td>CNN Indonesia | Jumat, 20/08/2021 13:48 WIB</td>\n",
       "      <td>https://www.cnnindonesia.com/olahraga/20210820...</td>\n",
       "    </tr>\n",
       "    <tr>\n",
       "      <th>1403</th>\n",
       "      <td>52 ASN DKI Meninggal Akibat Covid-19 Juli, Dis...</td>\n",
       "      <td>CNN Indonesia | Jumat, 20/08/2021 13:48 WIB</td>\n",
       "      <td>https://www.cnnindonesia.com/nasional/20210820...</td>\n",
       "    </tr>\n",
       "    <tr>\n",
       "      <th>1404</th>\n",
       "      <td>Kartu Deklarasi Sehat: Syarat Baru Ujian CPNS ...</td>\n",
       "      <td>CNN Indonesia | Jumat, 20/08/2021 13:37 WIB</td>\n",
       "      <td>https://www.cnnindonesia.com/nasional/20210820...</td>\n",
       "    </tr>\n",
       "    <tr>\n",
       "      <th>1405</th>\n",
       "      <td>Ancaman Krisis Global Semakin Cepat, Tak Lagi ...</td>\n",
       "      <td>CNN Indonesia | Jumat, 20/08/2021 13:27 WIB</td>\n",
       "      <td>https://www.cnnindonesia.com/ekonomi/202108201...</td>\n",
       "    </tr>\n",
       "    <tr>\n",
       "      <th>1406</th>\n",
       "      <td>Stok Vaksin di Sumut, Kaltim, Jambi, NTT Tak C...</td>\n",
       "      <td>CNN Indonesia | Jumat, 20/08/2021 12:33 WIB</td>\n",
       "      <td>https://www.cnnindonesia.com/nasional/20210820...</td>\n",
       "    </tr>\n",
       "  </tbody>\n",
       "</table>\n",
       "<p>1407 rows × 3 columns</p>\n",
       "</div>"
      ],
      "text/plain": [
       "                                                  judul  \\\n",
       "0     Brazil Menangguhkan 12 Juta Dosis Vaksin Sinov...   \n",
       "1          Penanganan Stroke Lewat Aplikasi FAST Rescue   \n",
       "2     PDPI Ungkap Kasus TBC RI Salah Satu Tertinggi ...   \n",
       "3          BOR RS Rujukan di Medan Turun Jadi 56 Persen   \n",
       "4               VIDEO: Menjemput Rezeki di Masa Pandemi   \n",
       "...                                                 ...   \n",
       "1402  Mahfud Sebut Masalah Lahan Venue PON 2020 Sege...   \n",
       "1403  52 ASN DKI Meninggal Akibat Covid-19 Juli, Dis...   \n",
       "1404  Kartu Deklarasi Sehat: Syarat Baru Ujian CPNS ...   \n",
       "1405  Ancaman Krisis Global Semakin Cepat, Tak Lagi ...   \n",
       "1406  Stok Vaksin di Sumut, Kaltim, Jambi, NTT Tak C...   \n",
       "\n",
       "                                                tanggal  \\\n",
       "0          CNN Indonesia | Minggu, 05/09/2021 07:16 WIB   \n",
       "1          CNN Indonesia | Minggu, 05/09/2021 01:45 WIB   \n",
       "2          CNN Indonesia | Minggu, 05/09/2021 00:18 WIB   \n",
       "3           CNN Indonesia | Sabtu, 04/09/2021 23:38 WIB   \n",
       "4     Digital Admin, CNN Indonesia | Sabtu, 04/09/20...   \n",
       "...                                                 ...   \n",
       "1402        CNN Indonesia | Jumat, 20/08/2021 13:48 WIB   \n",
       "1403        CNN Indonesia | Jumat, 20/08/2021 13:48 WIB   \n",
       "1404        CNN Indonesia | Jumat, 20/08/2021 13:37 WIB   \n",
       "1405        CNN Indonesia | Jumat, 20/08/2021 13:27 WIB   \n",
       "1406        CNN Indonesia | Jumat, 20/08/2021 12:33 WIB   \n",
       "\n",
       "                                                   link  \n",
       "0     https://www.cnnindonesia.com/internasional/202...  \n",
       "1     https://www.cnnindonesia.com/gaya-hidup/202108...  \n",
       "2     https://www.cnnindonesia.com/gaya-hidup/202109...  \n",
       "3     https://www.cnnindonesia.com/nasional/20210904...  \n",
       "4     https://www.cnnindonesia.com/tv/20210903212959...  \n",
       "...                                                 ...  \n",
       "1402  https://www.cnnindonesia.com/olahraga/20210820...  \n",
       "1403  https://www.cnnindonesia.com/nasional/20210820...  \n",
       "1404  https://www.cnnindonesia.com/nasional/20210820...  \n",
       "1405  https://www.cnnindonesia.com/ekonomi/202108201...  \n",
       "1406  https://www.cnnindonesia.com/nasional/20210820...  \n",
       "\n",
       "[1407 rows x 3 columns]"
      ]
     },
     "execution_count": 25,
     "metadata": {},
     "output_type": "execute_result"
    }
   ],
   "source": [
    "cnn_df"
   ]
  },
  {
   "cell_type": "code",
   "execution_count": null,
   "metadata": {},
   "outputs": [],
   "source": []
  }
 ],
 "metadata": {
  "kernelspec": {
   "display_name": "Python 3",
   "language": "python",
   "name": "python3"
  },
  "language_info": {
   "codemirror_mode": {
    "name": "ipython",
    "version": 3
   },
   "file_extension": ".py",
   "mimetype": "text/x-python",
   "name": "python",
   "nbconvert_exporter": "python",
   "pygments_lexer": "ipython3",
   "version": "3.8.5"
  },
  "toc": {
   "base_numbering": 1,
   "nav_menu": {},
   "number_sections": false,
   "sideBar": true,
   "skip_h1_title": false,
   "title_cell": "Table of Contents",
   "title_sidebar": "Contents",
   "toc_cell": false,
   "toc_position": {},
   "toc_section_display": true,
   "toc_window_display": true
  }
 },
 "nbformat": 4,
 "nbformat_minor": 4
}
