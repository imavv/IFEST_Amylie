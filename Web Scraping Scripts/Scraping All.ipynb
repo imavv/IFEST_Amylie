{
 "cells": [
  {
   "cell_type": "markdown",
   "metadata": {},
   "source": [
    "# SCRAPING"
   ]
  },
  {
   "cell_type": "code",
   "execution_count": 190,
   "metadata": {},
   "outputs": [],
   "source": [
    "from selenium import webdriver\n",
    "from bs4 import BeautifulSoup as bs\n",
    "import requests\n",
    "from tqdm.notebook import tqdm_notebook\n",
    "import pandas as pd\n",
    "import os\n",
    "import time\n",
    "import warnings\n",
    "warnings.filterwarnings(\"ignore\")"
   ]
  },
  {
   "cell_type": "code",
   "execution_count": 20,
   "metadata": {},
   "outputs": [],
   "source": [
    "def readpage(url):\n",
    "    req = requests.get(url, verify=False)\n",
    "    page = bs(req.content, 'lxml')\n",
    "    return page"
   ]
  },
  {
   "cell_type": "markdown",
   "metadata": {},
   "source": [
    "## TurnBackHoax.id"
   ]
  },
  {
   "cell_type": "code",
   "execution_count": 55,
   "metadata": {},
   "outputs": [],
   "source": [
    "driver = webdriver.Edge('msedgedriver.exe')"
   ]
  },
  {
   "cell_type": "code",
   "execution_count": 56,
   "metadata": {},
   "outputs": [],
   "source": [
    "website = 'https://turnbackhoax.id/'\n",
    "driver.get(website)"
   ]
  },
  {
   "cell_type": "code",
   "execution_count": 57,
   "metadata": {},
   "outputs": [
    {
     "data": {
      "text/plain": [
       "'https://turnbackhoax.id/2021/07/09/salah-campuran-air-panas-dan-lemon-rahasia-vietnam-tak-alami-kasus-kematian-akibat-covid-19/'"
      ]
     },
     "execution_count": 57,
     "metadata": {},
     "output_type": "execute_result"
    }
   ],
   "source": [
    "hoax.find('a', {'rel':'bookmark'})['href']"
   ]
  },
  {
   "cell_type": "code",
   "execution_count": 58,
   "metadata": {
    "scrolled": true
   },
   "outputs": [
    {
     "name": "stderr",
     "output_type": "stream",
     "text": [
      "100%|██████████| 10/10 [00:11<00:00,  1.13s/it]"
     ]
    },
    {
     "name": "stdout",
     "output_type": "stream",
     "text": [
      "Wall time: 11.3 s\n"
     ]
    },
    {
     "name": "stderr",
     "output_type": "stream",
     "text": [
      "\n"
     ]
    }
   ],
   "source": [
    "%%time\n",
    "judul_hoax = []\n",
    "date_hoax = []\n",
    "link_hoax = []\n",
    "for i in tqdm.notebook(range(10)):\n",
    "    hoax = bs(driver.page_source, 'lxml')\n",
    "    # Judul\n",
    "    header = hoax.find_all('a', {'rel':'bookmark'})\n",
    "    judul = [j.get_text().strip() for j in header]\n",
    "    judul_hoax.extend(judul)\n",
    "    \n",
    "    # Link\n",
    "    link = [l['href'] for l in header]\n",
    "    link_hoax.extend(link)\n",
    "    \n",
    "    # Date\n",
    "    date = hoax.find_all('span', {'class':'mh-meta-date updated'})\n",
    "    date = [d.get_text() for d in date]\n",
    "    date_hoax.extend(date)\n",
    "    \n",
    "    next_page = driver.find_element_by_class_name('next')\n",
    "    next_page.click()"
   ]
  },
  {
   "cell_type": "code",
   "execution_count": 59,
   "metadata": {},
   "outputs": [],
   "source": [
    "hoax_df = pd.DataFrame(list(zip(judul_hoax, date_hoax, link_hoax)))"
   ]
  },
  {
   "cell_type": "markdown",
   "metadata": {},
   "source": [
    "## CNN Indonesia"
   ]
  },
  {
   "cell_type": "code",
   "execution_count": 222,
   "metadata": {},
   "outputs": [],
   "source": [
    "driver = webdriver.Edge('msedgedriver.exe')"
   ]
  },
  {
   "cell_type": "code",
   "execution_count": 223,
   "metadata": {},
   "outputs": [
    {
     "name": "stdout",
     "output_type": "stream",
     "text": [
      "Wall time: 3.29 s\n"
     ]
    }
   ],
   "source": [
    "%%time\n",
    "website = 'https://www.cnnindonesia.com/search?query=covid'\n",
    "driver.get(website)"
   ]
  },
  {
   "cell_type": "code",
   "execution_count": 224,
   "metadata": {
    "scrolled": false
   },
   "outputs": [
    {
     "data": {
      "application/vnd.jupyter.widget-view+json": {
       "model_id": "1852cc5a224d4233be6a3ff08b81063e",
       "version_major": 2,
       "version_minor": 0
      },
      "text/plain": [
       "HBox(children=(HTML(value=''), FloatProgress(value=0.0, max=200.0), HTML(value='')))"
      ]
     },
     "metadata": {},
     "output_type": "display_data"
    },
    {
     "name": "stdout",
     "output_type": "stream",
     "text": [
      "\n",
      "Complete!\n",
      "Wall time: 18min 45s\n"
     ]
    }
   ],
   "source": [
    "%%time\n",
    "judul_cnn = []\n",
    "link_cnn = []\n",
    "date_cnn = []\n",
    "\n",
    "# Page\n",
    "for i in tqdm_notebook(range(200)):\n",
    "    next_page = driver.find_element_by_class_name('gtm_button_indeks')\n",
    "    next_page.click()\n",
    "    time.sleep(0.5)\n",
    "\n",
    "# Define Container\n",
    "cnn = bs(driver.page_source, 'lxml')\n",
    "container = cnn.find('div', {'class':'list media_rows middle'})\n",
    "# Get Articles In Container\n",
    "articles = container.findChildren('article')\n",
    "\n",
    "# Get Judul\n",
    "for article in articles:\n",
    "    judul_cnn.append(article.find('h2',{'class':'title'}).get_text())\n",
    "\n",
    "# Get Links\n",
    "for article in articles:\n",
    "    childlink = article.findChildren('a')\n",
    "    link = childlink[0]['href']\n",
    "    link_cnn.append(link)\n",
    "\n",
    "# Dates\n",
    "for link in link_cnn:\n",
    "    page = readpage(link)\n",
    "    date = page.find('div', {'class':'date'}).get_text().strip()\n",
    "    date_cnn.append(date)\n",
    "    \n",
    "print('Complete!')"
   ]
  },
  {
   "cell_type": "code",
   "execution_count": 231,
   "metadata": {},
   "outputs": [],
   "source": [
    "# Make into DF\n",
    "cnn_df = pd.DataFrame(list(zip(judul_cnn, date_cnn, link_cnn)))"
   ]
  },
  {
   "cell_type": "code",
   "execution_count": 233,
   "metadata": {},
   "outputs": [],
   "source": [
    "# Put into CSV\n",
    "cnn_df.to_csv('CNN_data.csv')"
   ]
  },
  {
   "cell_type": "markdown",
   "metadata": {},
   "source": [
    "## Detik"
   ]
  },
  {
   "cell_type": "code",
   "execution_count": null,
   "metadata": {},
   "outputs": [],
   "source": [
    "driver = webdriver.Edge('msedgedriver.exe')"
   ]
  },
  {
   "cell_type": "code",
   "execution_count": 279,
   "metadata": {},
   "outputs": [],
   "source": [
    "website = 'https://www.detik.com/search/searchall?query=covid&siteid=2&sortby=time&page=1'\n",
    "driver.get(website)"
   ]
  },
  {
   "cell_type": "code",
   "execution_count": null,
   "metadata": {},
   "outputs": [
    {
     "data": {
      "application/vnd.jupyter.widget-view+json": {
       "model_id": "a03f78447c00403ca09bb5a2289e58e1",
       "version_major": 2,
       "version_minor": 0
      },
      "text/plain": [
       "HBox(children=(HTML(value=''), FloatProgress(value=0.0, max=150.0), HTML(value='')))"
      ]
     },
     "metadata": {},
     "output_type": "display_data"
    }
   ],
   "source": [
    "%%time\n",
    "judul_detik = []\n",
    "date_detik = []\n",
    "link_detik = []\n",
    "\n",
    "# Page Open\n",
    "for i in tqdm_notebook(range(150)):\n",
    "    page = bs(driver.page_source, 'lxml')\n",
    "    \n",
    "    # Define Group\n",
    "    group = page.find('div', {'class':'list media_rows list-berita'})\n",
    "    articles = group.findChildren('article', recursive=False)\n",
    "        \n",
    "    # Judul\n",
    "    judul = [article.find('h2', {'class':'title'}).get_text().strip() for article in articles]\n",
    "    judul_detik.extend(judul)\n",
    "    \n",
    "    # Date\n",
    "    for article in articles:\n",
    "        date = article.find('span', {'class':'date'}).text\n",
    "        date_detik.append(date)\n",
    "    \n",
    "    # Links\n",
    "    links = [article.find('a')['href'] for article in articles]\n",
    "    link_detik.extend(links)\n",
    "    \n",
    "    \n",
    "    try:\n",
    "        next_page = driver.find_element_by_xpath('/html/body/div[2]/div/div[3]/a[7]')\n",
    "        next_page.click()\n",
    "    except:\n",
    "        next_page = driver.find_element_by_xpath('/html/body/div[2]/div/div[3]/a[6]')\n",
    "        next_page.click()\n",
    "        "
   ]
  },
  {
   "cell_type": "code",
   "execution_count": 275,
   "metadata": {},
   "outputs": [],
   "source": [
    "# Make into DF\n",
    "dtk_df = pd.DataFrame(list(zip(judul_detik, date_detik, link_detik)))\n",
    "dtk_df.columns = ['judul', 'tanggal', 'link']"
   ]
  },
  {
   "cell_type": "code",
   "execution_count": null,
   "metadata": {},
   "outputs": [],
   "source": [
    "# Put into CSV\n",
    "dtk_df.to_csv('detik_data.csv', columns=)"
   ]
  }
 ],
 "metadata": {
  "kernelspec": {
   "display_name": "Python 3",
   "language": "python",
   "name": "python3"
  },
  "language_info": {
   "codemirror_mode": {
    "name": "ipython",
    "version": 3
   },
   "file_extension": ".py",
   "mimetype": "text/x-python",
   "name": "python",
   "nbconvert_exporter": "python",
   "pygments_lexer": "ipython3",
   "version": "3.8.5"
  },
  "toc": {
   "base_numbering": 1,
   "nav_menu": {},
   "number_sections": false,
   "sideBar": true,
   "skip_h1_title": false,
   "title_cell": "Table of Contents",
   "title_sidebar": "Contents",
   "toc_cell": false,
   "toc_position": {
    "height": "calc(100% - 180px)",
    "left": "10px",
    "top": "150px",
    "width": "303.837px"
   },
   "toc_section_display": true,
   "toc_window_display": true
  }
 },
 "nbformat": 4,
 "nbformat_minor": 4
}
