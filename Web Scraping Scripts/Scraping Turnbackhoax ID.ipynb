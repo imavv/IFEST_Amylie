{
 "cells": [
  {
   "cell_type": "code",
   "execution_count": 56,
   "metadata": {},
   "outputs": [],
   "source": [
    "from selenium import webdriver\n",
    "from bs4 import BeautifulSoup as bs\n",
    "import requests\n",
    "from tqdm import tqdm\n",
    "import pandas as pd\n",
    "import os"
   ]
  },
  {
   "cell_type": "code",
   "execution_count": 68,
   "metadata": {},
   "outputs": [],
   "source": [
    "driver = webdriver.Edge('msedgedriver.exe')"
   ]
  },
  {
   "cell_type": "code",
   "execution_count": 8,
   "metadata": {},
   "outputs": [],
   "source": [
    "def readpage(url):\n",
    "    req = requests.get(url, verify=False)\n",
    "    page = bs(req.content, 'lxml')\n",
    "    return page"
   ]
  },
  {
   "cell_type": "code",
   "execution_count": 75,
   "metadata": {},
   "outputs": [],
   "source": [
    "website = 'https://turnbackhoax.id/'\n",
    "driver.get(website)"
   ]
  },
  {
   "cell_type": "code",
   "execution_count": null,
   "metadata": {},
   "outputs": [],
   "source": [
    "driver.find_element_by_class_name()"
   ]
  },
  {
   "cell_type": "code",
   "execution_count": null,
   "metadata": {},
   "outputs": [],
   "source": [
    "hoax.find_all()"
   ]
  },
  {
   "cell_type": "code",
   "execution_count": 61,
   "metadata": {},
   "outputs": [],
   "source": [
    "driver.find_"
   ]
  },
  {
   "cell_type": "code",
   "execution_count": 76,
   "metadata": {},
   "outputs": [
    {
     "name": "stderr",
     "output_type": "stream",
     "text": [
      "100%|████████████████████████████████████████████████████████████████████████████████| 381/381 [04:07<00:00,  1.54it/s]"
     ]
    },
    {
     "name": "stdout",
     "output_type": "stream",
     "text": [
      "Wall time: 4min 7s\n"
     ]
    },
    {
     "name": "stderr",
     "output_type": "stream",
     "text": [
      "\n"
     ]
    }
   ],
   "source": [
    "%%time\n",
    "judul_hoax = []\n",
    "date_hoax = []\n",
    "link_hoax = []\n",
    "for i in tqdm(range(381)):\n",
    "    hoax = bs(driver.page_source, 'lxml')\n",
    "    # Judul\n",
    "    header = hoax.find_all('a', {'rel':'bookmark'})\n",
    "    judul = [j.get_text().strip() for j in header]\n",
    "    judul_hoax.extend(judul)\n",
    "    \n",
    "    # Link\n",
    "    link = [l['href'] for l in header]\n",
    "    link_hoax.extend(link)\n",
    "    \n",
    "    # Date\n",
    "    date = hoax.find_all('span', {'class':'mh-meta-date updated'})\n",
    "    date = [d.get_text() for d in date]\n",
    "    date_hoax.extend(date)\n",
    "    \n",
    "    next_page = driver.find_element_by_class_name('next')\n",
    "    next_page.click()"
   ]
  },
  {
   "cell_type": "code",
   "execution_count": 78,
   "metadata": {},
   "outputs": [
    {
     "data": {
      "text/html": [
       "<div>\n",
       "<style scoped>\n",
       "    .dataframe tbody tr th:only-of-type {\n",
       "        vertical-align: middle;\n",
       "    }\n",
       "\n",
       "    .dataframe tbody tr th {\n",
       "        vertical-align: top;\n",
       "    }\n",
       "\n",
       "    .dataframe thead th {\n",
       "        text-align: right;\n",
       "    }\n",
       "</style>\n",
       "<table border=\"1\" class=\"dataframe\">\n",
       "  <thead>\n",
       "    <tr style=\"text-align: right;\">\n",
       "      <th></th>\n",
       "      <th>Judul</th>\n",
       "      <th>Date</th>\n",
       "      <th>Link</th>\n",
       "    </tr>\n",
       "  </thead>\n",
       "  <tbody>\n",
       "    <tr>\n",
       "      <th>0</th>\n",
       "      <td>[SALAH] Akun Whatsapp Bupati Cianjur Berikan B...</td>\n",
       "      <td>September 4, 2021</td>\n",
       "      <td>https://turnbackhoax.id/2021/09/04/salah-akun-...</td>\n",
       "    </tr>\n",
       "    <tr>\n",
       "      <th>1</th>\n",
       "      <td>[SALAH] Muammar Gaddafi Prediksi Covid-19</td>\n",
       "      <td>September 4, 2021</td>\n",
       "      <td>https://turnbackhoax.id/2021/09/04/salah-muamm...</td>\n",
       "    </tr>\n",
       "    <tr>\n",
       "      <th>2</th>\n",
       "      <td>[SALAH] Obat Covid-19 Molnulpiravir Mulai Bere...</td>\n",
       "      <td>September 3, 2021</td>\n",
       "      <td>https://turnbackhoax.id/2021/09/03/salah-obat-...</td>\n",
       "    </tr>\n",
       "    <tr>\n",
       "      <th>3</th>\n",
       "      <td>[SALAH] Artikel lanjutbaja.site: “Innalillahi,...</td>\n",
       "      <td>September 3, 2021</td>\n",
       "      <td>https://turnbackhoax.id/2021/09/03/salah-artik...</td>\n",
       "    </tr>\n",
       "    <tr>\n",
       "      <th>4</th>\n",
       "      <td>[SALAH] Foto “Safiya Firozi salah satu dari 4 ...</td>\n",
       "      <td>September 1, 2021</td>\n",
       "      <td>https://turnbackhoax.id/2021/09/01/salah-foto-...</td>\n",
       "    </tr>\n",
       "    <tr>\n",
       "      <th>...</th>\n",
       "      <td>...</td>\n",
       "      <td>...</td>\n",
       "      <td>...</td>\n",
       "    </tr>\n",
       "    <tr>\n",
       "      <th>7615</th>\n",
       "      <td>(HOAX) BKMG menyarankan menaruh baskom air yan...</td>\n",
       "      <td>Oktober 23, 2015</td>\n",
       "      <td>https://turnbackhoax.id/2015/10/23/hoax-bkmg-m...</td>\n",
       "    </tr>\n",
       "    <tr>\n",
       "      <th>7616</th>\n",
       "      <td>[MISINFORMASI] Indonesia Gagal Wujudkan Swasem...</td>\n",
       "      <td>Oktober 22, 2015</td>\n",
       "      <td>https://turnbackhoax.id/2015/10/22/misinformas...</td>\n",
       "    </tr>\n",
       "    <tr>\n",
       "      <th>7617</th>\n",
       "      <td>(HOAX) Lab RS Angkatan Laut membuat Daftar Min...</td>\n",
       "      <td>Oktober 22, 2015</td>\n",
       "      <td>https://turnbackhoax.id/2015/10/22/hoax-lab-rs...</td>\n",
       "    </tr>\n",
       "    <tr>\n",
       "      <th>7618</th>\n",
       "      <td>[DISINFORMASI] Syiah di Indonesia</td>\n",
       "      <td>Oktober 21, 2015</td>\n",
       "      <td>https://turnbackhoax.id/2015/10/21/disinformas...</td>\n",
       "    </tr>\n",
       "    <tr>\n",
       "      <th>7619</th>\n",
       "      <td>[HOAX] Jackie Chan Masuk Islam</td>\n",
       "      <td>Oktober 12, 2015</td>\n",
       "      <td>https://turnbackhoax.id/2015/10/12/hoax-jackie...</td>\n",
       "    </tr>\n",
       "  </tbody>\n",
       "</table>\n",
       "<p>7620 rows × 3 columns</p>\n",
       "</div>"
      ],
      "text/plain": [
       "                                                  Judul               Date  \\\n",
       "0     [SALAH] Akun Whatsapp Bupati Cianjur Berikan B...  September 4, 2021   \n",
       "1             [SALAH] Muammar Gaddafi Prediksi Covid-19  September 4, 2021   \n",
       "2     [SALAH] Obat Covid-19 Molnulpiravir Mulai Bere...  September 3, 2021   \n",
       "3     [SALAH] Artikel lanjutbaja.site: “Innalillahi,...  September 3, 2021   \n",
       "4     [SALAH] Foto “Safiya Firozi salah satu dari 4 ...  September 1, 2021   \n",
       "...                                                 ...                ...   \n",
       "7615  (HOAX) BKMG menyarankan menaruh baskom air yan...   Oktober 23, 2015   \n",
       "7616  [MISINFORMASI] Indonesia Gagal Wujudkan Swasem...   Oktober 22, 2015   \n",
       "7617  (HOAX) Lab RS Angkatan Laut membuat Daftar Min...   Oktober 22, 2015   \n",
       "7618                  [DISINFORMASI] Syiah di Indonesia   Oktober 21, 2015   \n",
       "7619                     [HOAX] Jackie Chan Masuk Islam   Oktober 12, 2015   \n",
       "\n",
       "                                                   Link  \n",
       "0     https://turnbackhoax.id/2021/09/04/salah-akun-...  \n",
       "1     https://turnbackhoax.id/2021/09/04/salah-muamm...  \n",
       "2     https://turnbackhoax.id/2021/09/03/salah-obat-...  \n",
       "3     https://turnbackhoax.id/2021/09/03/salah-artik...  \n",
       "4     https://turnbackhoax.id/2021/09/01/salah-foto-...  \n",
       "...                                                 ...  \n",
       "7615  https://turnbackhoax.id/2015/10/23/hoax-bkmg-m...  \n",
       "7616  https://turnbackhoax.id/2015/10/22/misinformas...  \n",
       "7617  https://turnbackhoax.id/2015/10/22/hoax-lab-rs...  \n",
       "7618  https://turnbackhoax.id/2015/10/21/disinformas...  \n",
       "7619  https://turnbackhoax.id/2015/10/12/hoax-jackie...  \n",
       "\n",
       "[7620 rows x 3 columns]"
      ]
     },
     "execution_count": 78,
     "metadata": {},
     "output_type": "execute_result"
    }
   ],
   "source": [
    "hoax_df = pd.DataFrame(list(zip(judul_hoax, date_hoax, link_hoax)))\n",
    "hoax_df.columns = ['Judul', 'Date', 'Link']\n",
    "hoax_df"
   ]
  },
  {
   "cell_type": "code",
   "execution_count": 82,
   "metadata": {},
   "outputs": [],
   "source": [
    "hoax_df.to_csv('Amylie Dataset Turnbackhoax.csv', index=False)"
   ]
  },
  {
   "cell_type": "code",
   "execution_count": null,
   "metadata": {},
   "outputs": [],
   "source": []
  }
 ],
 "metadata": {
  "kernelspec": {
   "display_name": "Python 3",
   "language": "python",
   "name": "python3"
  },
  "language_info": {
   "codemirror_mode": {
    "name": "ipython",
    "version": 3
   },
   "file_extension": ".py",
   "mimetype": "text/x-python",
   "name": "python",
   "nbconvert_exporter": "python",
   "pygments_lexer": "ipython3",
   "version": "3.8.5"
  }
 },
 "nbformat": 4,
 "nbformat_minor": 4
}
