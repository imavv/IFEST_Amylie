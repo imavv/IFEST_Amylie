{
 "cells": [
  {
   "cell_type": "markdown",
   "metadata": {},
   "source": [
    "# Scraper - TurnBackHoax.id\n",
    "Scraping was done on 5th September 2021 9:02 AM"
   ]
  },
  {
   "cell_type": "code",
   "execution_count": 1,
   "metadata": {},
   "outputs": [],
   "source": [
    "# Standard\n",
    "import pandas as pd\n",
    "import os\n",
    "\n",
    "# Crawlers\n",
    "from selenium import webdriver\n",
    "from bs4 import BeautifulSoup as bs\n",
    "import requests\n",
    "\n",
    "# For Time Monitoring\n",
    "from tqdm import tqdm\n",
    "from tqdm.notebook import tqdm_notebook"
   ]
  },
  {
   "cell_type": "code",
   "execution_count": 4,
   "metadata": {},
   "outputs": [],
   "source": [
    "def readpage(url):\n",
    "    req = requests.get(url, verify=False)\n",
    "    page = bs(req.content, 'lxml')\n",
    "    return page"
   ]
  },
  {
   "cell_type": "code",
   "execution_count": 3,
   "metadata": {},
   "outputs": [],
   "source": [
    "# Start Driver\n",
    "driver = webdriver.Edge('msedgedriver.exe')"
   ]
  },
  {
   "cell_type": "code",
   "execution_count": 4,
   "metadata": {},
   "outputs": [],
   "source": [
    "# Get Web\n",
    "website = 'https://turnbackhoax.id/?s=covid'\n",
    "driver.get(website)"
   ]
  },
  {
   "cell_type": "code",
   "execution_count": 5,
   "metadata": {},
   "outputs": [
    {
     "data": {
      "application/vnd.jupyter.widget-view+json": {
       "model_id": "943b5f3d771a41279b8f5fdfa8e9630d",
       "version_major": 2,
       "version_minor": 0
      },
      "text/plain": [
       "HBox(children=(HTML(value=''), FloatProgress(value=0.0, max=57.0), HTML(value='')))"
      ]
     },
     "metadata": {},
     "output_type": "display_data"
    },
    {
     "name": "stdout",
     "output_type": "stream",
     "text": [
      "\n",
      "Wall time: 1min 23s\n"
     ]
    }
   ],
   "source": [
    "%%time\n",
    "judul_hoax = []\n",
    "date_hoax = []\n",
    "link_hoax = []\n",
    "for i in tqdm_notebook(range(57)):\n",
    "    hoax = bs(driver.page_source, 'lxml')\n",
    "    # Judul\n",
    "    header = hoax.find_all('a', {'rel':'bookmark'})\n",
    "    judul = [j.get_text().strip() for j in header]\n",
    "    judul_hoax.extend(judul)\n",
    "    \n",
    "    # Link\n",
    "    link = [l['href'] for l in header]\n",
    "    link_hoax.extend(link)\n",
    "    \n",
    "    # Date\n",
    "    date = hoax.find_all('span', {'class':'mh-meta-date updated'})\n",
    "    date = [d.get_text() for d in date]\n",
    "    date_hoax.extend(date)\n",
    "    \n",
    "    next_page = driver.find_element_by_class_name('next')\n",
    "    next_page.click()"
   ]
  },
  {
   "cell_type": "code",
   "execution_count": 6,
   "metadata": {},
   "outputs": [
    {
     "data": {
      "text/html": [
       "<div>\n",
       "<style scoped>\n",
       "    .dataframe tbody tr th:only-of-type {\n",
       "        vertical-align: middle;\n",
       "    }\n",
       "\n",
       "    .dataframe tbody tr th {\n",
       "        vertical-align: top;\n",
       "    }\n",
       "\n",
       "    .dataframe thead th {\n",
       "        text-align: right;\n",
       "    }\n",
       "</style>\n",
       "<table border=\"1\" class=\"dataframe\">\n",
       "  <thead>\n",
       "    <tr style=\"text-align: right;\">\n",
       "      <th></th>\n",
       "      <th>Judul</th>\n",
       "      <th>tanggal</th>\n",
       "      <th>Link</th>\n",
       "    </tr>\n",
       "  </thead>\n",
       "  <tbody>\n",
       "    <tr>\n",
       "      <th>0</th>\n",
       "      <td>[SALAH] Muammar Gaddafi Prediksi Covid-19</td>\n",
       "      <td>September 4, 2021</td>\n",
       "      <td>https://turnbackhoax.id/2021/09/04/salah-muamm...</td>\n",
       "    </tr>\n",
       "    <tr>\n",
       "      <th>1</th>\n",
       "      <td>[SALAH] Obat Covid-19 Molnulpiravir Mulai Bere...</td>\n",
       "      <td>September 3, 2021</td>\n",
       "      <td>https://turnbackhoax.id/2021/09/03/salah-obat-...</td>\n",
       "    </tr>\n",
       "    <tr>\n",
       "      <th>2</th>\n",
       "      <td>[SALAH] Campuran Air Kelapa Muda, Jeruk Nipis,...</td>\n",
       "      <td>Agustus 30, 2021</td>\n",
       "      <td>https://turnbackhoax.id/2021/08/30/salah-campu...</td>\n",
       "    </tr>\n",
       "    <tr>\n",
       "      <th>3</th>\n",
       "      <td>[SALAH] Pesan Berantai dari Ketua Satgas Covid...</td>\n",
       "      <td>Agustus 23, 2021</td>\n",
       "      <td>https://turnbackhoax.id/2021/08/23/salah-pesan...</td>\n",
       "    </tr>\n",
       "    <tr>\n",
       "      <th>4</th>\n",
       "      <td>[SALAH] Video “Biang covid bill gates kena tim...</td>\n",
       "      <td>Agustus 22, 2021</td>\n",
       "      <td>https://turnbackhoax.id/2021/08/22/salah-video...</td>\n",
       "    </tr>\n",
       "    <tr>\n",
       "      <th>...</th>\n",
       "      <td>...</td>\n",
       "      <td>...</td>\n",
       "      <td>...</td>\n",
       "    </tr>\n",
       "    <tr>\n",
       "      <th>1135</th>\n",
       "      <td>[SALAH] “Serangan Virus Corona Belum Berakhir,...</td>\n",
       "      <td>Februari 19, 2020</td>\n",
       "      <td>https://turnbackhoax.id/2020/02/19/salah-seran...</td>\n",
       "    </tr>\n",
       "    <tr>\n",
       "      <th>1136</th>\n",
       "      <td>[SALAH] “20 juta orang Cina memeluk agama Isla...</td>\n",
       "      <td>Februari 18, 2020</td>\n",
       "      <td>https://turnbackhoax.id/2020/02/18/salah-20-ju...</td>\n",
       "    </tr>\n",
       "    <tr>\n",
       "      <th>1137</th>\n",
       "      <td>[SALAH] “SOLAT JUM’AT DI BALIK VIRUS CORONA”</td>\n",
       "      <td>Februari 17, 2020</td>\n",
       "      <td>https://turnbackhoax.id/2020/02/17/salah-solat...</td>\n",
       "    </tr>\n",
       "    <tr>\n",
       "      <th>1138</th>\n",
       "      <td>[SALAH] Video “Kondisi WUHAN Terkini …Langsung...</td>\n",
       "      <td>Februari 15, 2020</td>\n",
       "      <td>https://turnbackhoax.id/2020/02/15/salah-video...</td>\n",
       "    </tr>\n",
       "    <tr>\n",
       "      <th>1139</th>\n",
       "      <td>[SALAH] “Firus Corona Sudah Masuk Di Saudi Ara...</td>\n",
       "      <td>Februari 14, 2020</td>\n",
       "      <td>https://turnbackhoax.id/2020/02/14/salah-firus...</td>\n",
       "    </tr>\n",
       "  </tbody>\n",
       "</table>\n",
       "<p>1140 rows × 3 columns</p>\n",
       "</div>"
      ],
      "text/plain": [
       "                                                  Judul            tanggal  \\\n",
       "0             [SALAH] Muammar Gaddafi Prediksi Covid-19  September 4, 2021   \n",
       "1     [SALAH] Obat Covid-19 Molnulpiravir Mulai Bere...  September 3, 2021   \n",
       "2     [SALAH] Campuran Air Kelapa Muda, Jeruk Nipis,...   Agustus 30, 2021   \n",
       "3     [SALAH] Pesan Berantai dari Ketua Satgas Covid...   Agustus 23, 2021   \n",
       "4     [SALAH] Video “Biang covid bill gates kena tim...   Agustus 22, 2021   \n",
       "...                                                 ...                ...   \n",
       "1135  [SALAH] “Serangan Virus Corona Belum Berakhir,...  Februari 19, 2020   \n",
       "1136  [SALAH] “20 juta orang Cina memeluk agama Isla...  Februari 18, 2020   \n",
       "1137       [SALAH] “SOLAT JUM’AT DI BALIK VIRUS CORONA”  Februari 17, 2020   \n",
       "1138  [SALAH] Video “Kondisi WUHAN Terkini …Langsung...  Februari 15, 2020   \n",
       "1139  [SALAH] “Firus Corona Sudah Masuk Di Saudi Ara...  Februari 14, 2020   \n",
       "\n",
       "                                                   Link  \n",
       "0     https://turnbackhoax.id/2021/09/04/salah-muamm...  \n",
       "1     https://turnbackhoax.id/2021/09/03/salah-obat-...  \n",
       "2     https://turnbackhoax.id/2021/08/30/salah-campu...  \n",
       "3     https://turnbackhoax.id/2021/08/23/salah-pesan...  \n",
       "4     https://turnbackhoax.id/2021/08/22/salah-video...  \n",
       "...                                                 ...  \n",
       "1135  https://turnbackhoax.id/2020/02/19/salah-seran...  \n",
       "1136  https://turnbackhoax.id/2020/02/18/salah-20-ju...  \n",
       "1137  https://turnbackhoax.id/2020/02/17/salah-solat...  \n",
       "1138  https://turnbackhoax.id/2020/02/15/salah-video...  \n",
       "1139  https://turnbackhoax.id/2020/02/14/salah-firus...  \n",
       "\n",
       "[1140 rows x 3 columns]"
      ]
     },
     "execution_count": 6,
     "metadata": {},
     "output_type": "execute_result"
    }
   ],
   "source": [
    "hoax_df = pd.DataFrame(list(zip(judul_hoax, date_hoax, link_hoax)))\n",
    "hoax_df.columns = ['Judul', 'tanggal', 'Link']\n",
    "hoax_df"
   ]
  },
  {
   "cell_type": "code",
   "execution_count": 10,
   "metadata": {},
   "outputs": [],
   "source": [
    "hoax_df.to_csv('tbh_hoax_data.csv', index=False,)"
   ]
  },
  {
   "cell_type": "code",
   "execution_count": null,
   "metadata": {},
   "outputs": [],
   "source": []
  }
 ],
 "metadata": {
  "kernelspec": {
   "display_name": "Python 3",
   "language": "python",
   "name": "python3"
  },
  "language_info": {
   "codemirror_mode": {
    "name": "ipython",
    "version": 3
   },
   "file_extension": ".py",
   "mimetype": "text/x-python",
   "name": "python",
   "nbconvert_exporter": "python",
   "pygments_lexer": "ipython3",
   "version": "3.8.5"
  },
  "toc": {
   "base_numbering": 1,
   "nav_menu": {},
   "number_sections": false,
   "sideBar": true,
   "skip_h1_title": false,
   "title_cell": "Table of Contents",
   "title_sidebar": "Contents",
   "toc_cell": false,
   "toc_position": {},
   "toc_section_display": true,
   "toc_window_display": true
  }
 },
 "nbformat": 4,
 "nbformat_minor": 4
}
