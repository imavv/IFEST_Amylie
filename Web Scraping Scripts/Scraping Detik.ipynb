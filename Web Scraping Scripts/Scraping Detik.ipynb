{
 "cells": [
  {
   "cell_type": "markdown",
   "metadata": {},
   "source": [
    "# Scraping - Detik\n",
    "Scraping was done on 5th September 2021 9:02 AM"
   ]
  },
  {
   "cell_type": "code",
   "execution_count": 1,
   "metadata": {},
   "outputs": [],
   "source": [
    "from selenium import webdriver\n",
    "from bs4 import BeautifulSoup as bs\n",
    "import requests\n",
    "from tqdm.notebook import tqdm_notebook\n",
    "import pandas as pd\n",
    "import os\n",
    "import time\n",
    "import warnings\n",
    "warnings.filterwarnings(\"ignore\")"
   ]
  },
  {
   "cell_type": "code",
   "execution_count": 2,
   "metadata": {},
   "outputs": [],
   "source": [
    "def readpage(url):\n",
    "    req = requests.get(url, verify=False)\n",
    "    page = bs(req.content, 'lxml')\n",
    "    return page"
   ]
  },
  {
   "cell_type": "code",
   "execution_count": 3,
   "metadata": {},
   "outputs": [],
   "source": [
    "driver = webdriver.Edge('msedgedriver.exe')"
   ]
  },
  {
   "cell_type": "code",
   "execution_count": 4,
   "metadata": {},
   "outputs": [],
   "source": [
    "website = 'https://www.detik.com/search/searchall?query=covid&siteid=2&sortby=time&page=1'\n",
    "driver.get(website)"
   ]
  },
  {
   "cell_type": "code",
   "execution_count": 5,
   "metadata": {},
   "outputs": [
    {
     "data": {
      "application/vnd.jupyter.widget-view+json": {
       "model_id": "45117ddf51ee47e4be915a1f99b11a56",
       "version_major": 2,
       "version_minor": 0
      },
      "text/plain": [
       "HBox(children=(HTML(value=''), FloatProgress(value=0.0, max=150.0), HTML(value='')))"
      ]
     },
     "metadata": {},
     "output_type": "display_data"
    },
    {
     "name": "stdout",
     "output_type": "stream",
     "text": [
      "\n",
      "Wall time: 2min 40s\n"
     ]
    }
   ],
   "source": [
    "%%time\n",
    "judul_detik = []\n",
    "date_detik = []\n",
    "link_detik = []\n",
    "\n",
    "# Page Open\n",
    "for i in tqdm_notebook(range(150)):\n",
    "    page = bs(driver.page_source, 'lxml')\n",
    "    \n",
    "    # Define Group\n",
    "    group = page.find('div', {'class':'list media_rows list-berita'})\n",
    "    articles = group.findChildren('article', recursive=False)\n",
    "        \n",
    "    # Judul\n",
    "    judul = [article.find('h2', {'class':'title'}).get_text().strip() for article in articles]\n",
    "    judul_detik.extend(judul)\n",
    "    \n",
    "    # Date\n",
    "    for article in articles:\n",
    "        date = article.find('span', {'class':'date'}).text\n",
    "        date_detik.append(date)\n",
    "    \n",
    "    # Links\n",
    "    links = [article.find('a')['href'] for article in articles]\n",
    "    link_detik.extend(links)\n",
    "    \n",
    "    # Click Next Page\n",
    "    try:\n",
    "        next_page = driver.find_element_by_xpath('/html/body/div[2]/div/div[3]/a[7]')\n",
    "        next_page.click()\n",
    "    except:\n",
    "        next_page = driver.find_element_by_xpath('/html/body/div[2]/div/div[3]/a[6]')\n",
    "        next_page.click()\n",
    "        "
   ]
  },
  {
   "cell_type": "code",
   "execution_count": 6,
   "metadata": {},
   "outputs": [],
   "source": [
    "# Make into DF\n",
    "dtk_df = pd.DataFrame(list(zip(judul_detik, date_detik, link_detik)))\n",
    "dtk_df.columns = ['judul', 'tanggal', 'link']"
   ]
  },
  {
   "cell_type": "code",
   "execution_count": 7,
   "metadata": {},
   "outputs": [
    {
     "data": {
      "text/html": [
       "<div>\n",
       "<style scoped>\n",
       "    .dataframe tbody tr th:only-of-type {\n",
       "        vertical-align: middle;\n",
       "    }\n",
       "\n",
       "    .dataframe tbody tr th {\n",
       "        vertical-align: top;\n",
       "    }\n",
       "\n",
       "    .dataframe thead th {\n",
       "        text-align: right;\n",
       "    }\n",
       "</style>\n",
       "<table border=\"1\" class=\"dataframe\">\n",
       "  <thead>\n",
       "    <tr style=\"text-align: right;\">\n",
       "      <th></th>\n",
       "      <th>judul</th>\n",
       "      <th>tanggal</th>\n",
       "      <th>link</th>\n",
       "    </tr>\n",
       "  </thead>\n",
       "  <tbody>\n",
       "    <tr>\n",
       "      <th>0</th>\n",
       "      <td>Malaysia Heran Corona di RI Turun Drastis Lebi...</td>\n",
       "      <td>detikHealthMinggu, 05 Sep 2021 09:01 WIB</td>\n",
       "      <td>https://health.detik.com/berita-detikhealth/d-...</td>\n",
       "    </tr>\n",
       "    <tr>\n",
       "      <th>1</th>\n",
       "      <td>Pesepeda Ramaikan Kawasan Sudirman Pagi Ini, P...</td>\n",
       "      <td>detikNewsMinggu, 05 Sep 2021 08:39 WIB</td>\n",
       "      <td>https://news.detik.com/berita/d-5710393/pesepe...</td>\n",
       "    </tr>\n",
       "    <tr>\n",
       "      <th>2</th>\n",
       "      <td>Upaya Memvaksinasi Warga di Pegunungan Papua</td>\n",
       "      <td>detikNewsMinggu, 05 Sep 2021 08:35 WIB</td>\n",
       "      <td>https://news.detik.com/detiktv/d-5710390/upaya...</td>\n",
       "    </tr>\n",
       "    <tr>\n",
       "      <th>3</th>\n",
       "      <td>Dear Nikita Mirzani, Dipo Latief Pesan Jangan ...</td>\n",
       "      <td>detikHotMinggu, 05 Sep 2021 08:25 WIB</td>\n",
       "      <td>https://hot.detik.com/celeb/d-5710378/dear-nik...</td>\n",
       "    </tr>\n",
       "    <tr>\n",
       "      <th>4</th>\n",
       "      <td>Erick Thohir Buka-bukaan Rencana Produksi Vaks...</td>\n",
       "      <td>detikFinanceMinggu, 05 Sep 2021 08:00 WIB</td>\n",
       "      <td>https://finance.detik.com/berita-ekonomi-bisni...</td>\n",
       "    </tr>\n",
       "    <tr>\n",
       "      <th>...</th>\n",
       "      <td>...</td>\n",
       "      <td>...</td>\n",
       "      <td>...</td>\n",
       "    </tr>\n",
       "    <tr>\n",
       "      <th>1345</th>\n",
       "      <td>UNICEF: Banyak Siswa Harus Berbagi Smartphone ...</td>\n",
       "      <td>detikEduSenin, 30 Agu 2021 13:30 WIB</td>\n",
       "      <td>https://www.detik.com/edu/sekolah/d-5701927/un...</td>\n",
       "    </tr>\n",
       "    <tr>\n",
       "      <th>1346</th>\n",
       "      <td>Honor Bupati Jember dalam Pemakaman COVID-19 S...</td>\n",
       "      <td>detikNewsSenin, 30 Agu 2021 13:29 WIB</td>\n",
       "      <td>https://news.detik.com/berita-jawa-timur/d-570...</td>\n",
       "    </tr>\n",
       "    <tr>\n",
       "      <th>1347</th>\n",
       "      <td>Jalani Vaksinasi COVID-19, Sejumlah Ibu Hamil ...</td>\n",
       "      <td>detikNewsSenin, 30 Agu 2021 13:25 WIB</td>\n",
       "      <td>https://news.detik.com/berita-jawa-barat/d-570...</td>\n",
       "    </tr>\n",
       "    <tr>\n",
       "      <th>1348</th>\n",
       "      <td>Satgas COVID Dikritik Tak Tegas Tangani Kerumu...</td>\n",
       "      <td>detikNewsSenin, 30 Agu 2021 13:22 WIB</td>\n",
       "      <td>https://news.detik.com/berita/d-5701951/satgas...</td>\n",
       "    </tr>\n",
       "    <tr>\n",
       "      <th>1349</th>\n",
       "      <td>15 Negara dengan Kasus Covid Terbanyak di Duni...</td>\n",
       "      <td>detikTravelSenin, 30 Agu 2021 13:18 WIB</td>\n",
       "      <td>https://travel.detik.com/travel-news/d-5701948...</td>\n",
       "    </tr>\n",
       "  </tbody>\n",
       "</table>\n",
       "<p>1350 rows × 3 columns</p>\n",
       "</div>"
      ],
      "text/plain": [
       "                                                  judul  \\\n",
       "0     Malaysia Heran Corona di RI Turun Drastis Lebi...   \n",
       "1     Pesepeda Ramaikan Kawasan Sudirman Pagi Ini, P...   \n",
       "2          Upaya Memvaksinasi Warga di Pegunungan Papua   \n",
       "3     Dear Nikita Mirzani, Dipo Latief Pesan Jangan ...   \n",
       "4     Erick Thohir Buka-bukaan Rencana Produksi Vaks...   \n",
       "...                                                 ...   \n",
       "1345  UNICEF: Banyak Siswa Harus Berbagi Smartphone ...   \n",
       "1346  Honor Bupati Jember dalam Pemakaman COVID-19 S...   \n",
       "1347  Jalani Vaksinasi COVID-19, Sejumlah Ibu Hamil ...   \n",
       "1348  Satgas COVID Dikritik Tak Tegas Tangani Kerumu...   \n",
       "1349  15 Negara dengan Kasus Covid Terbanyak di Duni...   \n",
       "\n",
       "                                        tanggal  \\\n",
       "0      detikHealthMinggu, 05 Sep 2021 09:01 WIB   \n",
       "1        detikNewsMinggu, 05 Sep 2021 08:39 WIB   \n",
       "2        detikNewsMinggu, 05 Sep 2021 08:35 WIB   \n",
       "3         detikHotMinggu, 05 Sep 2021 08:25 WIB   \n",
       "4     detikFinanceMinggu, 05 Sep 2021 08:00 WIB   \n",
       "...                                         ...   \n",
       "1345       detikEduSenin, 30 Agu 2021 13:30 WIB   \n",
       "1346      detikNewsSenin, 30 Agu 2021 13:29 WIB   \n",
       "1347      detikNewsSenin, 30 Agu 2021 13:25 WIB   \n",
       "1348      detikNewsSenin, 30 Agu 2021 13:22 WIB   \n",
       "1349    detikTravelSenin, 30 Agu 2021 13:18 WIB   \n",
       "\n",
       "                                                   link  \n",
       "0     https://health.detik.com/berita-detikhealth/d-...  \n",
       "1     https://news.detik.com/berita/d-5710393/pesepe...  \n",
       "2     https://news.detik.com/detiktv/d-5710390/upaya...  \n",
       "3     https://hot.detik.com/celeb/d-5710378/dear-nik...  \n",
       "4     https://finance.detik.com/berita-ekonomi-bisni...  \n",
       "...                                                 ...  \n",
       "1345  https://www.detik.com/edu/sekolah/d-5701927/un...  \n",
       "1346  https://news.detik.com/berita-jawa-timur/d-570...  \n",
       "1347  https://news.detik.com/berita-jawa-barat/d-570...  \n",
       "1348  https://news.detik.com/berita/d-5701951/satgas...  \n",
       "1349  https://travel.detik.com/travel-news/d-5701948...  \n",
       "\n",
       "[1350 rows x 3 columns]"
      ]
     },
     "execution_count": 7,
     "metadata": {},
     "output_type": "execute_result"
    }
   ],
   "source": [
    "dtk_df"
   ]
  },
  {
   "cell_type": "code",
   "execution_count": 8,
   "metadata": {},
   "outputs": [],
   "source": [
    "# Put into CSV\n",
    "dtk_df.to_csv('detik_data.csv', index=False)"
   ]
  }
 ],
 "metadata": {
  "kernelspec": {
   "display_name": "Python 3",
   "language": "python",
   "name": "python3"
  },
  "language_info": {
   "codemirror_mode": {
    "name": "ipython",
    "version": 3
   },
   "file_extension": ".py",
   "mimetype": "text/x-python",
   "name": "python",
   "nbconvert_exporter": "python",
   "pygments_lexer": "ipython3",
   "version": "3.8.5"
  },
  "toc": {
   "base_numbering": 1,
   "nav_menu": {},
   "number_sections": false,
   "sideBar": true,
   "skip_h1_title": false,
   "title_cell": "Table of Contents",
   "title_sidebar": "Contents",
   "toc_cell": false,
   "toc_position": {
    "height": "calc(100% - 180px)",
    "left": "10px",
    "top": "150px",
    "width": "303.837px"
   },
   "toc_section_display": true,
   "toc_window_display": true
  }
 },
 "nbformat": 4,
 "nbformat_minor": 4
}
