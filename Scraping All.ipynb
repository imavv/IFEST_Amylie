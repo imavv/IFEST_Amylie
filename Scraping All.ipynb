{
 "cells": [
  {
   "cell_type": "markdown",
   "metadata": {},
   "source": [
    "# SCRAPING"
   ]
  },
  {
   "cell_type": "code",
   "execution_count": 190,
   "metadata": {},
   "outputs": [],
   "source": [
    "from selenium import webdriver\n",
    "from bs4 import BeautifulSoup as bs\n",
    "import requests\n",
    "from tqdm.notebook import tqdm_notebook\n",
    "import pandas as pd\n",
    "import os\n",
    "import time\n",
    "import warnings\n",
    "warnings.filterwarnings(\"ignore\")"
   ]
  },
  {
   "cell_type": "code",
   "execution_count": 20,
   "metadata": {},
   "outputs": [],
   "source": [
    "def readpage(url):\n",
    "    req = requests.get(url, verify=False)\n",
    "    page = bs(req.content, 'lxml')\n",
    "    return page"
   ]
  },
  {
   "cell_type": "markdown",
   "metadata": {},
   "source": [
    "## TurnBackHoax.id"
   ]
  },
  {
   "cell_type": "code",
   "execution_count": 55,
   "metadata": {},
   "outputs": [],
   "source": [
    "driver = webdriver.Edge('msedgedriver.exe')"
   ]
  },
  {
   "cell_type": "code",
   "execution_count": 56,
   "metadata": {},
   "outputs": [],
   "source": [
    "website = 'https://turnbackhoax.id/'\n",
    "driver.get(website)"
   ]
  },
  {
   "cell_type": "code",
   "execution_count": 57,
   "metadata": {},
   "outputs": [
    {
     "data": {
      "text/plain": [
       "'https://turnbackhoax.id/2021/07/09/salah-campuran-air-panas-dan-lemon-rahasia-vietnam-tak-alami-kasus-kematian-akibat-covid-19/'"
      ]
     },
     "execution_count": 57,
     "metadata": {},
     "output_type": "execute_result"
    }
   ],
   "source": [
    "hoax.find('a', {'rel':'bookmark'})['href']"
   ]
  },
  {
   "cell_type": "code",
   "execution_count": 58,
   "metadata": {
    "scrolled": true
   },
   "outputs": [
    {
     "name": "stderr",
     "output_type": "stream",
     "text": [
      "100%|██████████| 10/10 [00:11<00:00,  1.13s/it]"
     ]
    },
    {
     "name": "stdout",
     "output_type": "stream",
     "text": [
      "Wall time: 11.3 s\n"
     ]
    },
    {
     "name": "stderr",
     "output_type": "stream",
     "text": [
      "\n"
     ]
    }
   ],
   "source": [
    "%%time\n",
    "judul_hoax = []\n",
    "date_hoax = []\n",
    "link_hoax = []\n",
    "for i in tqdm.notebook(range(10)):\n",
    "    hoax = bs(driver.page_source, 'lxml')\n",
    "    # Judul\n",
    "    header = hoax.find_all('a', {'rel':'bookmark'})\n",
    "    judul = [j.get_text().strip() for j in header]\n",
    "    judul_hoax.extend(judul)\n",
    "    \n",
    "    # Link\n",
    "    link = [l['href'] for l in header]\n",
    "    link_hoax.extend(link)\n",
    "    \n",
    "    # Date\n",
    "    date = hoax.find_all('span', {'class':'mh-meta-date updated'})\n",
    "    date = [d.get_text() for d in date]\n",
    "    date_hoax.extend(date)\n",
    "    \n",
    "    next_page = driver.find_element_by_class_name('next')\n",
    "    next_page.click()"
   ]
  },
  {
   "cell_type": "code",
   "execution_count": 59,
   "metadata": {},
   "outputs": [],
   "source": [
    "hoax_df = pd.DataFrame(list(zip(judul_hoax, date_hoax, link_hoax)))"
   ]
  },
  {
   "cell_type": "markdown",
   "metadata": {},
   "source": [
    "## CNN Indonesia"
   ]
  },
  {
   "cell_type": "code",
   "execution_count": 222,
   "metadata": {},
   "outputs": [],
   "source": [
    "driver = webdriver.Edge('msedgedriver.exe')"
   ]
  },
  {
   "cell_type": "code",
   "execution_count": 223,
   "metadata": {},
   "outputs": [
    {
     "name": "stdout",
     "output_type": "stream",
     "text": [
      "Wall time: 3.29 s\n"
     ]
    }
   ],
   "source": [
    "%%time\n",
    "website = 'https://www.cnnindonesia.com/search?query=covid'\n",
    "driver.get(website)"
   ]
  },
  {
   "cell_type": "code",
   "execution_count": 224,
   "metadata": {
    "scrolled": false
   },
   "outputs": [
    {
     "data": {
      "application/vnd.jupyter.widget-view+json": {
       "model_id": "1852cc5a224d4233be6a3ff08b81063e",
       "version_major": 2,
       "version_minor": 0
      },
      "text/plain": [
       "HBox(children=(HTML(value=''), FloatProgress(value=0.0, max=200.0), HTML(value='')))"
      ]
     },
     "metadata": {},
     "output_type": "display_data"
    },
    {
     "name": "stdout",
     "output_type": "stream",
     "text": [
      "\n",
      "Complete!\n",
      "Wall time: 18min 45s\n"
     ]
    }
   ],
   "source": [
    "%%time\n",
    "judul_cnn = []\n",
    "link_cnn = []\n",
    "date_cnn = []\n",
    "\n",
    "# Page\n",
    "for i in tqdm_notebook(range(200)):\n",
    "    next_page = driver.find_element_by_class_name('gtm_button_indeks')\n",
    "    next_page.click()\n",
    "    time.sleep(0.5)\n",
    "\n",
    "# Define Container\n",
    "cnn = bs(driver.page_source, 'lxml')\n",
    "container = cnn.find('div', {'class':'list media_rows middle'})\n",
    "# Get Articles In Container\n",
    "articles = container.findChildren('article')\n",
    "\n",
    "# Get Judul\n",
    "for article in articles:\n",
    "    judul_cnn.append(article.find('h2',{'class':'title'}).get_text())\n",
    "\n",
    "# Get Links\n",
    "for article in articles:\n",
    "    childlink = article.findChildren('a')\n",
    "    link = childlink[0]['href']\n",
    "    link_cnn.append(link)\n",
    "\n",
    "# Dates\n",
    "for link in link_cnn:\n",
    "    page = readpage(link)\n",
    "    date = page.find('div', {'class':'date'}).get_text().strip()\n",
    "    date_cnn.append(date)\n",
    "    \n",
    "print('Complete!')"
   ]
  },
  {
   "cell_type": "code",
   "execution_count": 231,
   "metadata": {},
   "outputs": [],
   "source": [
    "# Make into DF\n",
    "cnn_df = pd.DataFrame(list(zip(judul_cnn, date_cnn, link_cnn)))"
   ]
  },
  {
   "cell_type": "code",
   "execution_count": 233,
   "metadata": {},
   "outputs": [],
   "source": [
    "# Put into CSV\n",
    "cnn_df.to_csv('CNN_data.csv')"
   ]
  },
  {
   "cell_type": "markdown",
   "metadata": {},
   "source": [
    "## Detik"
   ]
  },
  {
   "cell_type": "code",
   "execution_count": 234,
   "metadata": {},
   "outputs": [],
   "source": [
    "driver = webdriver.Edge('msedgedriver.exe')\n",
    "website = 'https://www.detik.com/search/searchall?query=covid&siteid=2&sortby=time&page=1'\n",
    "driver.get(website)"
   ]
  },
  {
   "cell_type": "code",
   "execution_count": 239,
   "metadata": {},
   "outputs": [
    {
     "data": {
      "application/vnd.jupyter.widget-view+json": {
       "model_id": "c6d7386710cb4722b4f979be159e841f",
       "version_major": 2,
       "version_minor": 0
      },
      "text/plain": [
       "HBox(children=(HTML(value=''), FloatProgress(value=0.0, max=1.0), HTML(value='')))"
      ]
     },
     "metadata": {},
     "output_type": "display_data"
    },
    {
     "name": "stdout",
     "output_type": "stream",
     "text": [
      "<article>\n",
      "<a href=\"https://news.detik.com/berita/d-5710279/dorong-vaksinasi-digencarkan-legislator-ingin-transportasi-darat-bangkit\" onclick='_pt(this, \"newsfeed\", \"Dorong Vaksinasi Digencarkan, Legislator Ingin Transportasi Darat Bangkit\", \"artikel 1\")'>\n",
      "<span class=\"ratiobox box_thumb\">\n",
      "<span class=\"ratiobox_content lqd imgLiquid_bgSize imgLiquid_ready\" style='background-image: url(\"https://akcdn.detik.net.id/community/media/visual/2021/09/05/anggota-komisi-v-dpr-ri-novita-wijayanti-mendorong-vaksinasi-corona-digencarkan_43.jpeg?w=250&amp;q=\"); background-size: cover; background-position: center top; background-repeat: no-repeat;'>\n",
      "<img alt=\"Dorong Vaksinasi Digencarkan, Legislator Ingin Transportasi Darat Bangkit\" class=\"\" src=\"https://akcdn.detik.net.id/community/media/visual/2021/09/05/anggota-komisi-v-dpr-ri-novita-wijayanti-mendorong-vaksinasi-corona-digencarkan_43.jpeg?w=250&amp;q=\" style=\"display: none;\" title=\"Dorong Vaksinasi Digencarkan, Legislator Ingin Transportasi Darat Bangkit\"/> </span>\n",
      "</span>\n",
      "<span class=\"box_text\">\n",
      "<span class=\"date\"><span class=\"category\">detikNews</span>Minggu, 05 Sep 2021 01:03 WIB</span>\n",
      "<h2 class=\"title\">Dorong Vaksinasi Digencarkan, Legislator Ingin Transportasi Darat Bangkit</h2>\n",
      "<p>Anggota Komisi V DPR RI Novita Wijayanti mendorong vaksinasi Corona digencarkan. Hal tersebut agar transportasi darat dapat segera bangkit di tengah pandemi.</p>\n",
      "</span>\n",
      "</a>\n",
      "</article>\n",
      "<article>\n",
      "<a href=\"https://finance.detik.com/berita-ekonomi-bisnis/d-5710239/vaksin-merah-putih-tahun-depan-diproduksi-nanti-gratis-atau-bayar\" onclick='_pt(this, \"newsfeed\", \"Vaksin Merah Putih Tahun Depan Diproduksi, Nanti Gratis atau Bayar?\", \"artikel 2\")'>\n",
      "<span class=\"ratiobox box_thumb\">\n",
      "<span class=\"ratiobox_content lqd imgLiquid_bgSize imgLiquid_ready\" style='background-image: url(\"https://akcdn.detik.net.id/community/media/visual/2021/02/23/vaksinasi-covid-19-di-kpk-3_43.jpeg?w=250&amp;q=\"); background-size: cover; background-position: center top; background-repeat: no-repeat;'>\n",
      "<img alt=\"Vaksin Merah Putih Tahun Depan Diproduksi, Nanti Gratis atau Bayar?\" class=\"\" src=\"https://akcdn.detik.net.id/community/media/visual/2021/02/23/vaksinasi-covid-19-di-kpk-3_43.jpeg?w=250&amp;q=\" style=\"display: none;\" title=\"Vaksin Merah Putih Tahun Depan Diproduksi, Nanti Gratis atau Bayar?\"/> </span>\n",
      "</span>\n",
      "<span class=\"box_text\">\n",
      "<span class=\"date\"><span class=\"category\">detikFinance</span>Sabtu, 04 Sep 2021 23:11 WIB</span>\n",
      "<h2 class=\"title\">Vaksin Merah Putih Tahun Depan Diproduksi, Nanti Gratis atau Bayar?</h2>\n",
      "<p>Vaksin Merah Putih yang akan diproduksi pada April atau Mei 2022 nantinya gratis untuk masyarakat atau berbayar?</p>\n",
      "</span>\n",
      "</a>\n",
      "</article>\n",
      "<article>\n",
      "<a href=\"https://travel.detik.com/travel-news/d-5710217/ganjil-genap-di-puncak-calon-pengunjung-batalkan-menginap-di-hotel\" onclick='_pt(this, \"newsfeed\", \"Ganjil Genap di Puncak, Calon Pengunjung Batalkan Menginap di Hotel\", \"artikel 3\")'>\n",
      "<span class=\"ratiobox box_thumb\">\n",
      "<span class=\"ratiobox_content lqd imgLiquid_bgSize imgLiquid_ready\" style='background-image: url(\"https://akcdn.detik.net.id/community/media/visual/2021/09/04/okupansi-hotel-di-cianjur-mulai-naik-tapi-sejumlah-pengunjung-batal-menginap-akibatnya-ganjil-genap-1_43.jpeg?w=250&amp;q=\"); background-size: cover; background-position: center top; background-repeat: no-repeat;'>\n",
      "<img alt=\"Ganjil Genap di Puncak, Calon Pengunjung Batalkan Menginap di Hotel\" class=\"\" src=\"https://akcdn.detik.net.id/community/media/visual/2021/09/04/okupansi-hotel-di-cianjur-mulai-naik-tapi-sejumlah-pengunjung-batal-menginap-akibatnya-ganjil-genap-1_43.jpeg?w=250&amp;q=\" style=\"display: none;\" title=\"Ganjil Genap di Puncak, Calon Pengunjung Batalkan Menginap di Hotel\"/> </span>\n",
      "</span>\n",
      "<span class=\"box_text\">\n",
      "<span class=\"date\"><span class=\"category\">detikTravel</span>Sabtu, 04 Sep 2021 22:46 WIB</span>\n",
      "<h2 class=\"title\">Ganjil Genap di Puncak, Calon Pengunjung Batalkan Menginap di Hotel</h2>\n",
      "<p>Okupansi hotel di Kabupaten Cianjur mengalami peningkatan selama PPKM level 2. Namun calon pengunjung batal menginap karena ganjil genap di kawasan puncak.</p>\n",
      "</span>\n",
      "</a>\n",
      "</article>\n",
      "<article>\n",
      "<a href=\"https://news.detik.com/berita-jawa-timur/d-5710229/kepala-upt-pemakaman-kota-malang-dicopot-karena-bikin-kesalahan-berulang-kali\" onclick='_pt(this, \"newsfeed\", \"Kepala UPT Pemakaman Kota Malang Dicopot Karena Bikin Kesalahan Berulang Kali\", \"artikel 4\")'>\n",
      "<span class=\"ratiobox box_thumb\">\n",
      "<span class=\"ratiobox_content lqd imgLiquid_bgSize imgLiquid_ready\" style='background-image: url(\"https://akcdn.detik.net.id/community/media/visual/2021/09/03/pemakaman-covid-19-di-malang_43.jpeg?w=250&amp;q=\"); background-size: cover; background-position: center top; background-repeat: no-repeat;'>\n",
      "<img alt=\"Kepala UPT Pemakaman Kota Malang Dicopot Karena Bikin Kesalahan Berulang Kali\" class=\"\" src=\"https://akcdn.detik.net.id/community/media/visual/2021/09/03/pemakaman-covid-19-di-malang_43.jpeg?w=250&amp;q=\" style=\"display: none;\" title=\"Kepala UPT Pemakaman Kota Malang Dicopot Karena Bikin Kesalahan Berulang Kali\"/> </span>\n",
      "</span>\n",
      "<span class=\"box_text\">\n",
      "<span class=\"date\"><span class=\"category\">detikNews</span>Sabtu, 04 Sep 2021 22:38 WIB</span>\n",
      "<h2 class=\"title\">Kepala UPT Pemakaman Kota Malang Dicopot Karena Bikin Kesalahan Berulang Kali</h2>\n",
      "<p>DLH Kota Malang ingin membenahi manajemen pemakaman di Kota Malang. Pencopotan Kepala UPT Pemakaman Umum diduga berkaitan dengan kebijakan tersebut.</p>\n",
      "</span>\n",
      "</a>\n",
      "</article>\n",
      "<article>\n",
      "<a href=\"https://news.detik.com/berita-jawa-timur/d-5710218/overkapsitas-hingga-300-367-napi-rutan-medaeng-asimilasi-di-rumah\" onclick='_pt(this, \"newsfeed\", \"Overkapsitas Hingga 300%, 367 Napi Rutan Medaeng Asimilasi di Rumah\", \"artikel 5\")'>\n",
      "<span class=\"ratiobox box_thumb\">\n",
      "<span class=\"ratiobox_content lqd imgLiquid_bgSize imgLiquid_ready\" style='background-image: url(\"https://akcdn.detik.net.id/community/media/visual/2021/09/04/rutan-medaeng_43.jpeg?w=250&amp;q=\"); background-size: cover; background-position: center top; background-repeat: no-repeat;'>\n",
      "<img alt=\"Overkapsitas Hingga 300%, 367 Napi Rutan Medaeng Asimilasi di Rumah\" class=\"\" src=\"https://akcdn.detik.net.id/community/media/visual/2021/09/04/rutan-medaeng_43.jpeg?w=250&amp;q=\" style=\"display: none;\" title=\"Overkapsitas Hingga 300%, 367 Napi Rutan Medaeng Asimilasi di Rumah\"/> </span>\n",
      "</span>\n",
      "<span class=\"box_text\">\n",
      "<span class=\"date\"><span class=\"category\">detikNews</span>Sabtu, 04 Sep 2021 22:03 WIB</span>\n",
      "<h2 class=\"title\">Overkapsitas Hingga 300%, 367 Napi Rutan Medaeng Asimilasi di Rumah</h2>\n",
      "<p>Pandemi membuat Rutan Medaeng harus menerapkan strategi yang tepat agar warga binaannya tetap dalam keadaan baik. Salah satunya adalah asimilasi di rumah.</p>\n",
      "</span>\n",
      "</a>\n",
      "</article>\n",
      "<article>\n",
      "<a href=\"https://news.detik.com/berita/d-5710196/3-alasan-pemerintah-percepat-sekolah-tatap-muka-terbatas\" onclick='_pt(this, \"newsfeed\", \"3 Alasan Pemerintah Percepat Sekolah Tatap Muka Terbatas\", \"artikel 6\")'>\n",
      "<span class=\"ratiobox box_thumb\">\n",
      "<span class=\"ratiobox_content lqd imgLiquid_bgSize imgLiquid_ready\" style='background-image: url(\"https://akcdn.detik.net.id/community/media/visual/2021/09/02/ciamis-gelar-sekolah-tatap-muka-siswa-ramai-ramai-divaksin-corona-1_43.jpeg?w=250&amp;q=\"); background-size: cover; background-position: center top; background-repeat: no-repeat;'>\n",
      "<img alt=\"3 Alasan Pemerintah Percepat Sekolah Tatap Muka Terbatas\" class=\"\" src=\"https://akcdn.detik.net.id/community/media/visual/2021/09/02/ciamis-gelar-sekolah-tatap-muka-siswa-ramai-ramai-divaksin-corona-1_43.jpeg?w=250&amp;q=\" style=\"display: none;\" title=\"3 Alasan Pemerintah Percepat Sekolah Tatap Muka Terbatas\"/> </span>\n",
      "</span>\n",
      "<span class=\"box_text\">\n",
      "<span class=\"date\"><span class=\"category\">detikNews</span>Sabtu, 04 Sep 2021 21:47 WIB</span>\n",
      "<h2 class=\"title\">3 Alasan Pemerintah Percepat Sekolah Tatap Muka Terbatas</h2>\n",
      "<p>Pemerintah berencana mempercepat pembukaan PTM terbatas di wilayah dengan status PPKM Level 1,2,3 dengan prinsip kehati-hatian.</p>\n",
      "</span>\n",
      "</a>\n",
      "</article>\n",
      "<article>\n",
      "<a href=\"https://news.detik.com/berita/d-5710190/ri-terima-207-ribu-vaksin-astrazeneca-dari-belanda\" onclick='_pt(this, \"newsfeed\", \"RI Terima 207 Ribu Vaksin AstraZeneca dari Belanda\", \"artikel 7\")'>\n",
      "<span class=\"ratiobox box_thumb\">\n",
      "<span class=\"ratiobox_content lqd imgLiquid_bgSize imgLiquid_ready\" style='background-image: url(\"https://akcdn.detik.net.id/community/media/visual/2021/09/02/indonesia-kembali-menerima-kedatangan-vaksin-covid-19-astrazeneca-sebanyak-500000-dosis-yang-merupakan-donasi-dari-australia-d_43.jpeg?w=250&amp;q=\"); background-size: cover; background-position: center top; background-repeat: no-repeat;'>\n",
      "<img alt=\"RI Terima 207 Ribu Vaksin AstraZeneca dari Belanda\" class=\"\" src=\"https://akcdn.detik.net.id/community/media/visual/2021/09/02/indonesia-kembali-menerima-kedatangan-vaksin-covid-19-astrazeneca-sebanyak-500000-dosis-yang-merupakan-donasi-dari-australia-d_43.jpeg?w=250&amp;q=\" style=\"display: none;\" title=\"RI Terima 207 Ribu Vaksin AstraZeneca dari Belanda\"/> </span>\n",
      "</span>\n",
      "<span class=\"box_text\">\n",
      "<span class=\"date\"><span class=\"category\">detikNews</span>Sabtu, 04 Sep 2021 21:37 WIB</span>\n",
      "<h2 class=\"title\">RI Terima 207 Ribu Vaksin AstraZeneca dari Belanda</h2>\n",
      "<p>Total vaksin yang kini sudah diterima baik dalam bentuk bulk maupun jadi yaitu sekitar 220,4 juta dosis vaksin.</p>\n",
      "</span>\n",
      "</a>\n",
      "</article>\n",
      "<article>\n",
      "<a href=\"https://finance.detik.com/solusiukm/d-5710186/kisah-reseller-raup-ratusan-juta-dari-produk-makanan-beku\" onclick='_pt(this, \"newsfeed\", \"Kisah Reseller Raup Ratusan Juta dari Produk Makanan Beku\", \"artikel 8\")'>\n",
      "<span class=\"ratiobox box_thumb\">\n",
      "<span class=\"ratiobox_content lqd imgLiquid_bgSize imgLiquid_ready\" style='background-image: url(\"https://akcdn.detik.net.id/community/media/visual/2021/09/04/kisah-bisnis-reseller-makanan-beku-1_43.jpeg?w=250&amp;q=\"); background-size: cover; background-position: center top; background-repeat: no-repeat;'>\n",
      "<img alt=\"Kisah Reseller Raup Ratusan Juta dari Produk Makanan Beku\" class=\"\" src=\"https://akcdn.detik.net.id/community/media/visual/2021/09/04/kisah-bisnis-reseller-makanan-beku-1_43.jpeg?w=250&amp;q=\" style=\"display: none;\" title=\"Kisah Reseller Raup Ratusan Juta dari Produk Makanan Beku\"/> </span>\n",
      "</span>\n",
      "<span class=\"box_text\">\n",
      "<span class=\"date\"><span class=\"category\">detikFinance</span>Sabtu, 04 Sep 2021 21:31 WIB</span>\n",
      "<h2 class=\"title\">Kisah Reseller Raup Ratusan Juta dari Produk Makanan Beku</h2>\n",
      "<p>Berikut ini kisah seorang perempuan berusia 33 tahun meraup cuan dari bisnis reseller makanan beku.</p>\n",
      "</span>\n",
      "</a>\n",
      "</article>\n",
      "<article>\n",
      "<a href=\"https://news.detik.com/berita-jawa-timur/d-5710180/dear-warga-kota-malang-ada-simpati-makota-untuk-daftar-vaksinasi-lebih-mudah\" onclick='_pt(this, \"newsfeed\", \"Dear Warga Kota Malang, Ada Simpati Makota untuk Daftar Vaksinasi Lebih Mudah\", \"artikel 9\")'>\n",
      "<span class=\"ratiobox box_thumb\">\n",
      "<span class=\"ratiobox_content lqd imgLiquid_bgSize imgLiquid_ready\" style='background-image: url(\"https://akcdn.detik.net.id/community/media/visual/2021/09/04/simpati-makota_43.jpeg?w=250&amp;q=\"); background-size: cover; background-position: center top; background-repeat: no-repeat;'>\n",
      "<img alt=\"Dear Warga Kota Malang, Ada Simpati Makota untuk Daftar Vaksinasi Lebih Mudah\" class=\"\" src=\"https://akcdn.detik.net.id/community/media/visual/2021/09/04/simpati-makota_43.jpeg?w=250&amp;q=\" style=\"display: none;\" title=\"Dear Warga Kota Malang, Ada Simpati Makota untuk Daftar Vaksinasi Lebih Mudah\"/> </span>\n",
      "</span>\n",
      "<span class=\"box_text\">\n",
      "<span class=\"date\"><span class=\"category\">detikNews</span>Sabtu, 04 Sep 2021 21:21 WIB</span>\n",
      "<h2 class=\"title\">Dear Warga Kota Malang, Ada Simpati Makota untuk Daftar Vaksinasi Lebih Mudah</h2>\n",
      "<p>Polresta Malang Kota meluncurkan layanan bernama Simpati Makota. Dengan layanan itu, warga Kota Malang bisa mendaftar vaksin dengan lebih mudah.</p>\n",
      "</span>\n",
      "</a>\n",
      "</article>\n",
      "\n",
      "Wall time: 96.7 ms\n"
     ]
    }
   ],
   "source": [
    "%%time\n",
    "judul_detik = []\n",
    "date_detik = []\n",
    "link_detik = []\n",
    "\n",
    "# Page Open\n",
    "for i in tqdm_notebook(range(1)):\n",
    "    page = bs(driver.page_source, 'lxml')\n",
    "    \n",
    "    # Define Group\n",
    "    group = page.find('div', {'class':'list media_rows list-berita'})\n",
    "    articles = group.findChildren('article', recursive=False)\n",
    "        \n",
    "    # Judul\n",
    "    judul = [article.find('h2', {'class':'title'}).get_text().strip() for article in articles]\n",
    "    judul_detik.append(judul)\n",
    "    \n",
    "    # Date\n",
    "    for article in articles:\n",
    "        print(article)\n",
    "        date = article.find('span', {'class':'date'}).text\n",
    "        date_detik.append(date)\n",
    "    \n",
    "    # Links\n",
    "    links = [article.find('a')['href'] for article in articles]\n",
    "    link_detik.extend(links)\n",
    "    \n",
    "    # Find Area\n",
    "    turner = page.find('div', {'class':'paging text_center'})\n",
    "    "
   ]
  },
  {
   "cell_type": "code",
   "execution_count": null,
   "metadata": {},
   "outputs": [],
   "source": []
  }
 ],
 "metadata": {
  "kernelspec": {
   "display_name": "Python 3",
   "language": "python",
   "name": "python3"
  },
  "language_info": {
   "codemirror_mode": {
    "name": "ipython",
    "version": 3
   },
   "file_extension": ".py",
   "mimetype": "text/x-python",
   "name": "python",
   "nbconvert_exporter": "python",
   "pygments_lexer": "ipython3",
   "version": "3.8.5"
  },
  "toc": {
   "base_numbering": 1,
   "nav_menu": {},
   "number_sections": false,
   "sideBar": true,
   "skip_h1_title": false,
   "title_cell": "Table of Contents",
   "title_sidebar": "Contents",
   "toc_cell": false,
   "toc_position": {
    "height": "calc(100% - 180px)",
    "left": "10px",
    "top": "150px",
    "width": "303.837px"
   },
   "toc_section_display": true,
   "toc_window_display": true
  }
 },
 "nbformat": 4,
 "nbformat_minor": 4
}
